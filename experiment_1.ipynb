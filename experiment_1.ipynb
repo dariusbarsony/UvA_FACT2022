{
 "cells": [
  {
   "cell_type": "markdown",
   "metadata": {},
   "source": [
    "# Reproduction of Adult dataset experiments\n",
    "\n",
    "In this notebook we reproduce the results from Table 2 of the DECAF paper. We compare various methods for generating debiased data using the DECAF model against synthetic data generated using benchmark models GAN, WGAN-GP and FairGAN. As described in the paper we run all experiments (as implemented in this notebook) 10 times and avarage the results."
   ]
  },
  {
   "cell_type": "code",
   "execution_count": 1,
   "metadata": {},
   "outputs": [
    {
     "name": "stderr",
     "output_type": "stream",
     "text": [
      "/mnt/c/Users/dariu/Documents/debiasing_goggle/UvA_FACT2022/decaf/lib/python3.8/site-packages/tqdm/auto.py:21: TqdmWarning: IProgress not found. Please update jupyter and ipywidgets. See https://ipywidgets.readthedocs.io/en/stable/user_install.html\n",
      "  from .autonotebook import tqdm as notebook_tqdm\n",
      "/mnt/c/Users/dariu/Documents/debiasing_goggle/UvA_FACT2022/decaf/lib/python3.8/site-packages/torchvision/io/image.py:13: UserWarning: Failed to load image Python extension: '/mnt/c/Users/dariu/Documents/debiasing_goggle/UvA_FACT2022/decaf/lib/python3.8/site-packages/torchvision/image.so: undefined symbol: _ZN3c104impl8GPUTrace13gpuTraceStateE'If you don't plan on using image functionality from `torchvision.io`, you can ignore this warning. Otherwise, there might be something wrong with your environment. Did you have `libjpeg` or `libpng` installed before building `torchvision` from source?\n",
      "  warn(\n"
     ]
    }
   ],
   "source": [
    "from sklearn.metrics import precision_score, recall_score, roc_auc_score\n",
    "from sklearn.model_selection import train_test_split\n",
    "from sklearn.neural_network import MLPClassifier\n",
    "\n",
    "from data import load_adult, preprocess_adult\n",
    "from metrics import DP, FTU\n",
    "\n",
    "# from train import train_decaf, train_fairgan, train_vanilla_gan, train_wgan_gp\n",
    "\n",
    "import os\n",
    "import warnings\n",
    "\n",
    "import numpy as np\n",
    "import pandas as pd\n",
    "import torch\n",
    "\n",
    "import matplotlib.pyplot as plt\n",
    "import pytorch_lightning as pl\n",
    "\n",
    "from data import DataModule, inject_synth_bias, load_credit, preprocess_credit\n",
    "from metrics import eval_model\n",
    "from models.DECAF import DECAF\n",
    "\n",
    "warnings.filterwarnings(\"ignore\")"
   ]
  },
  {
   "cell_type": "code",
   "execution_count": 2,
   "metadata": {},
   "outputs": [
    {
     "name": "stdout",
     "output_type": "stream",
     "text": [
      "[KeOps] Warning : Cuda libraries were not detected on the system ; using cpu only mode\n"
     ]
    }
   ],
   "source": [
    "# goggle evaluation\n",
    "from synthcity.plugins.core.dataloader import GenericDataLoader\n",
    "from synthcity.metrics import eval_detection, eval_performance, eval_statistical"
   ]
  },
  {
   "cell_type": "markdown",
   "metadata": {},
   "source": [
    "## Loading data"
   ]
  },
  {
   "cell_type": "code",
   "execution_count": 3,
   "metadata": {},
   "outputs": [
    {
     "data": {
      "text/html": [
       "<div>\n",
       "<style scoped>\n",
       "    .dataframe tbody tr th:only-of-type {\n",
       "        vertical-align: middle;\n",
       "    }\n",
       "\n",
       "    .dataframe tbody tr th {\n",
       "        vertical-align: top;\n",
       "    }\n",
       "\n",
       "    .dataframe thead th {\n",
       "        text-align: right;\n",
       "    }\n",
       "</style>\n",
       "<table border=\"1\" class=\"dataframe\">\n",
       "  <thead>\n",
       "    <tr style=\"text-align: right;\">\n",
       "      <th></th>\n",
       "      <th>age</th>\n",
       "      <th>workclass</th>\n",
       "      <th>fnlwgt</th>\n",
       "      <th>education</th>\n",
       "      <th>education-num</th>\n",
       "      <th>marital-status</th>\n",
       "      <th>occupation</th>\n",
       "      <th>relationship</th>\n",
       "      <th>race</th>\n",
       "      <th>sex</th>\n",
       "      <th>capital-gain</th>\n",
       "      <th>capital-loss</th>\n",
       "      <th>hours-per-week</th>\n",
       "      <th>native-country</th>\n",
       "      <th>income</th>\n",
       "    </tr>\n",
       "  </thead>\n",
       "  <tbody>\n",
       "    <tr>\n",
       "      <th>0</th>\n",
       "      <td>39</td>\n",
       "      <td>State-gov</td>\n",
       "      <td>77516.0</td>\n",
       "      <td>Bachelors</td>\n",
       "      <td>13.0</td>\n",
       "      <td>Never-married</td>\n",
       "      <td>Adm-clerical</td>\n",
       "      <td>Not-in-family</td>\n",
       "      <td>White</td>\n",
       "      <td>Male</td>\n",
       "      <td>2174.0</td>\n",
       "      <td>0.0</td>\n",
       "      <td>40.0</td>\n",
       "      <td>United-States</td>\n",
       "      <td>&lt;=50K</td>\n",
       "    </tr>\n",
       "    <tr>\n",
       "      <th>1</th>\n",
       "      <td>50</td>\n",
       "      <td>Self-emp-not-inc</td>\n",
       "      <td>83311.0</td>\n",
       "      <td>Bachelors</td>\n",
       "      <td>13.0</td>\n",
       "      <td>Married-civ-spouse</td>\n",
       "      <td>Exec-managerial</td>\n",
       "      <td>Husband</td>\n",
       "      <td>White</td>\n",
       "      <td>Male</td>\n",
       "      <td>0.0</td>\n",
       "      <td>0.0</td>\n",
       "      <td>13.0</td>\n",
       "      <td>United-States</td>\n",
       "      <td>&lt;=50K</td>\n",
       "    </tr>\n",
       "    <tr>\n",
       "      <th>2</th>\n",
       "      <td>38</td>\n",
       "      <td>Private</td>\n",
       "      <td>215646.0</td>\n",
       "      <td>HS-grad</td>\n",
       "      <td>9.0</td>\n",
       "      <td>Divorced</td>\n",
       "      <td>Handlers-cleaners</td>\n",
       "      <td>Not-in-family</td>\n",
       "      <td>White</td>\n",
       "      <td>Male</td>\n",
       "      <td>0.0</td>\n",
       "      <td>0.0</td>\n",
       "      <td>40.0</td>\n",
       "      <td>United-States</td>\n",
       "      <td>&lt;=50K</td>\n",
       "    </tr>\n",
       "    <tr>\n",
       "      <th>3</th>\n",
       "      <td>53</td>\n",
       "      <td>Private</td>\n",
       "      <td>234721.0</td>\n",
       "      <td>11th</td>\n",
       "      <td>7.0</td>\n",
       "      <td>Married-civ-spouse</td>\n",
       "      <td>Handlers-cleaners</td>\n",
       "      <td>Husband</td>\n",
       "      <td>Black</td>\n",
       "      <td>Male</td>\n",
       "      <td>0.0</td>\n",
       "      <td>0.0</td>\n",
       "      <td>40.0</td>\n",
       "      <td>United-States</td>\n",
       "      <td>&lt;=50K</td>\n",
       "    </tr>\n",
       "    <tr>\n",
       "      <th>4</th>\n",
       "      <td>28</td>\n",
       "      <td>Private</td>\n",
       "      <td>338409.0</td>\n",
       "      <td>Bachelors</td>\n",
       "      <td>13.0</td>\n",
       "      <td>Married-civ-spouse</td>\n",
       "      <td>Prof-specialty</td>\n",
       "      <td>Wife</td>\n",
       "      <td>Black</td>\n",
       "      <td>Female</td>\n",
       "      <td>0.0</td>\n",
       "      <td>0.0</td>\n",
       "      <td>40.0</td>\n",
       "      <td>Cuba</td>\n",
       "      <td>&lt;=50K</td>\n",
       "    </tr>\n",
       "  </tbody>\n",
       "</table>\n",
       "</div>"
      ],
      "text/plain": [
       "  age         workclass    fnlwgt  education  education-num  \\\n",
       "0  39         State-gov   77516.0  Bachelors           13.0   \n",
       "1  50  Self-emp-not-inc   83311.0  Bachelors           13.0   \n",
       "2  38           Private  215646.0    HS-grad            9.0   \n",
       "3  53           Private  234721.0       11th            7.0   \n",
       "4  28           Private  338409.0  Bachelors           13.0   \n",
       "\n",
       "       marital-status         occupation   relationship   race     sex  \\\n",
       "0       Never-married       Adm-clerical  Not-in-family  White    Male   \n",
       "1  Married-civ-spouse    Exec-managerial        Husband  White    Male   \n",
       "2            Divorced  Handlers-cleaners  Not-in-family  White    Male   \n",
       "3  Married-civ-spouse  Handlers-cleaners        Husband  Black    Male   \n",
       "4  Married-civ-spouse     Prof-specialty           Wife  Black  Female   \n",
       "\n",
       "   capital-gain  capital-loss  hours-per-week native-country income  \n",
       "0        2174.0           0.0            40.0  United-States  <=50K  \n",
       "1           0.0           0.0            13.0  United-States  <=50K  \n",
       "2           0.0           0.0            40.0  United-States  <=50K  \n",
       "3           0.0           0.0            40.0  United-States  <=50K  \n",
       "4           0.0           0.0            40.0           Cuba  <=50K  "
      ]
     },
     "execution_count": 3,
     "metadata": {},
     "output_type": "execute_result"
    }
   ],
   "source": [
    "dataset = load_adult()\n",
    "dataset.head()"
   ]
  },
  {
   "cell_type": "markdown",
   "metadata": {},
   "source": [
    "Preprocess the data next in order to make it suitable for training models on."
   ]
  },
  {
   "cell_type": "code",
   "execution_count": 4,
   "metadata": {},
   "outputs": [
    {
     "data": {
      "text/html": [
       "<div>\n",
       "<style scoped>\n",
       "    .dataframe tbody tr th:only-of-type {\n",
       "        vertical-align: middle;\n",
       "    }\n",
       "\n",
       "    .dataframe tbody tr th {\n",
       "        vertical-align: top;\n",
       "    }\n",
       "\n",
       "    .dataframe thead th {\n",
       "        text-align: right;\n",
       "    }\n",
       "</style>\n",
       "<table border=\"1\" class=\"dataframe\">\n",
       "  <thead>\n",
       "    <tr style=\"text-align: right;\">\n",
       "      <th></th>\n",
       "      <th>age</th>\n",
       "      <th>workclass</th>\n",
       "      <th>fnlwgt</th>\n",
       "      <th>education</th>\n",
       "      <th>education-num</th>\n",
       "      <th>marital-status</th>\n",
       "      <th>occupation</th>\n",
       "      <th>relationship</th>\n",
       "      <th>race</th>\n",
       "      <th>sex</th>\n",
       "      <th>capital-gain</th>\n",
       "      <th>capital-loss</th>\n",
       "      <th>hours-per-week</th>\n",
       "      <th>native-country</th>\n",
       "      <th>income</th>\n",
       "    </tr>\n",
       "  </thead>\n",
       "  <tbody>\n",
       "    <tr>\n",
       "      <th>0</th>\n",
       "      <td>0.301370</td>\n",
       "      <td>0.833333</td>\n",
       "      <td>0.043350</td>\n",
       "      <td>0.000000</td>\n",
       "      <td>0.800000</td>\n",
       "      <td>0.333333</td>\n",
       "      <td>0.615385</td>\n",
       "      <td>0.6</td>\n",
       "      <td>0.0</td>\n",
       "      <td>1.0</td>\n",
       "      <td>0.02174</td>\n",
       "      <td>0.0</td>\n",
       "      <td>0.397959</td>\n",
       "      <td>0.0</td>\n",
       "      <td>1.0</td>\n",
       "    </tr>\n",
       "    <tr>\n",
       "      <th>1</th>\n",
       "      <td>0.452055</td>\n",
       "      <td>0.166667</td>\n",
       "      <td>0.047274</td>\n",
       "      <td>0.000000</td>\n",
       "      <td>0.800000</td>\n",
       "      <td>0.000000</td>\n",
       "      <td>0.307692</td>\n",
       "      <td>0.4</td>\n",
       "      <td>0.0</td>\n",
       "      <td>1.0</td>\n",
       "      <td>0.00000</td>\n",
       "      <td>0.0</td>\n",
       "      <td>0.122449</td>\n",
       "      <td>0.0</td>\n",
       "      <td>1.0</td>\n",
       "    </tr>\n",
       "    <tr>\n",
       "      <th>2</th>\n",
       "      <td>0.287671</td>\n",
       "      <td>0.000000</td>\n",
       "      <td>0.136877</td>\n",
       "      <td>0.200000</td>\n",
       "      <td>0.533333</td>\n",
       "      <td>0.166667</td>\n",
       "      <td>0.461538</td>\n",
       "      <td>0.6</td>\n",
       "      <td>0.0</td>\n",
       "      <td>1.0</td>\n",
       "      <td>0.00000</td>\n",
       "      <td>0.0</td>\n",
       "      <td>0.397959</td>\n",
       "      <td>0.0</td>\n",
       "      <td>1.0</td>\n",
       "    </tr>\n",
       "    <tr>\n",
       "      <th>3</th>\n",
       "      <td>0.493151</td>\n",
       "      <td>0.000000</td>\n",
       "      <td>0.149792</td>\n",
       "      <td>0.133333</td>\n",
       "      <td>0.400000</td>\n",
       "      <td>0.000000</td>\n",
       "      <td>0.461538</td>\n",
       "      <td>0.4</td>\n",
       "      <td>1.0</td>\n",
       "      <td>1.0</td>\n",
       "      <td>0.00000</td>\n",
       "      <td>0.0</td>\n",
       "      <td>0.397959</td>\n",
       "      <td>0.0</td>\n",
       "      <td>1.0</td>\n",
       "    </tr>\n",
       "    <tr>\n",
       "      <th>4</th>\n",
       "      <td>0.150685</td>\n",
       "      <td>0.000000</td>\n",
       "      <td>0.219998</td>\n",
       "      <td>0.000000</td>\n",
       "      <td>0.800000</td>\n",
       "      <td>0.000000</td>\n",
       "      <td>0.384615</td>\n",
       "      <td>0.0</td>\n",
       "      <td>1.0</td>\n",
       "      <td>0.0</td>\n",
       "      <td>0.00000</td>\n",
       "      <td>0.0</td>\n",
       "      <td>0.397959</td>\n",
       "      <td>0.3</td>\n",
       "      <td>1.0</td>\n",
       "    </tr>\n",
       "  </tbody>\n",
       "</table>\n",
       "</div>"
      ],
      "text/plain": [
       "        age  workclass    fnlwgt  education  education-num  marital-status  \\\n",
       "0  0.301370   0.833333  0.043350   0.000000       0.800000        0.333333   \n",
       "1  0.452055   0.166667  0.047274   0.000000       0.800000        0.000000   \n",
       "2  0.287671   0.000000  0.136877   0.200000       0.533333        0.166667   \n",
       "3  0.493151   0.000000  0.149792   0.133333       0.400000        0.000000   \n",
       "4  0.150685   0.000000  0.219998   0.000000       0.800000        0.000000   \n",
       "\n",
       "   occupation  relationship  race  sex  capital-gain  capital-loss  \\\n",
       "0    0.615385           0.6   0.0  1.0       0.02174           0.0   \n",
       "1    0.307692           0.4   0.0  1.0       0.00000           0.0   \n",
       "2    0.461538           0.6   0.0  1.0       0.00000           0.0   \n",
       "3    0.461538           0.4   1.0  1.0       0.00000           0.0   \n",
       "4    0.384615           0.0   1.0  0.0       0.00000           0.0   \n",
       "\n",
       "   hours-per-week  native-country  income  \n",
       "0        0.397959             0.0     1.0  \n",
       "1        0.122449             0.0     1.0  \n",
       "2        0.397959             0.0     1.0  \n",
       "3        0.397959             0.0     1.0  \n",
       "4        0.397959             0.3     1.0  "
      ]
     },
     "execution_count": 4,
     "metadata": {},
     "output_type": "execute_result"
    }
   ],
   "source": [
    "dataset = preprocess_adult(dataset)\n",
    "dataset.head()"
   ]
  },
  {
   "cell_type": "markdown",
   "metadata": {},
   "source": [
    "Split the dataset into train and test folds. Test fold size is 2000."
   ]
  },
  {
   "cell_type": "code",
   "execution_count": 5,
   "metadata": {},
   "outputs": [
    {
     "name": "stdout",
     "output_type": "stream",
     "text": [
      "Size of train set: 43222\n",
      "Size of test set: 2000\n"
     ]
    }
   ],
   "source": [
    "# Split data into train and testing sets\n",
    "dataset_train, dataset_test = train_test_split(dataset, test_size=2000,\n",
    "                                               stratify=dataset['income'])\n",
    "\n",
    "print('Size of train set:', len(dataset_train))\n",
    "print('Size of test set:', len(dataset_test))"
   ]
  },
  {
   "cell_type": "markdown",
   "metadata": {},
   "source": [
    "### Defining the DAG\n",
    "\n",
    "We need to define a DAG which captures the biases of the dataset. As described in the DECAF paper normally a causal discovery algorithm is used. In this notebook we simply copy the DAG which as described in the Zhang et al. paper which is the one also used in the DECAF paper."
   ]
  },
  {
   "cell_type": "code",
   "execution_count": 6,
   "metadata": {},
   "outputs": [
    {
     "name": "stdout",
     "output_type": "stream",
     "text": [
      "[[8, 6], [8, 14], [8, 12], [8, 3], [8, 5], [0, 6], [0, 12], [0, 14], [0, 1], [0, 5], [0, 3], [0, 7], [9, 6], [9, 5], [9, 14], [9, 1], [9, 3], [9, 7], [13, 5], [13, 12], [13, 3], [13, 1], [13, 14], [13, 7], [5, 6], [5, 12], [5, 14], [5, 1], [5, 7], [5, 3], [3, 6], [3, 12], [3, 14], [3, 1], [3, 7], [6, 14], [12, 14], [1, 14], [7, 14]]\n"
     ]
    }
   ],
   "source": [
    "# Define DAG for Adult dataset\n",
    "dag = [\n",
    "    # Edges from race\n",
    "    ['race', 'occupation'],\n",
    "    ['race', 'income'],\n",
    "    ['race', 'hours-per-week'],\n",
    "    ['race', 'education'],\n",
    "    ['race', 'marital-status'],\n",
    "\n",
    "    # Edges from age\n",
    "    ['age', 'occupation'],\n",
    "    ['age', 'hours-per-week'],\n",
    "    ['age', 'income'],\n",
    "    ['age', 'workclass'],\n",
    "    ['age', 'marital-status'],\n",
    "    ['age', 'education'],\n",
    "    ['age', 'relationship'],\n",
    "    \n",
    "    # Edges from sex\n",
    "    ['sex', 'occupation'],\n",
    "    ['sex', 'marital-status'],\n",
    "    ['sex', 'income'],\n",
    "    ['sex', 'workclass'],\n",
    "    ['sex', 'education'],\n",
    "    ['sex', 'relationship'],\n",
    "    \n",
    "    # Edges from native country\n",
    "    ['native-country', 'marital-status'],\n",
    "    ['native-country', 'hours-per-week'],\n",
    "    ['native-country', 'education'],\n",
    "    ['native-country', 'workclass'],\n",
    "    ['native-country', 'income'],\n",
    "    ['native-country', 'relationship'],\n",
    "    \n",
    "    # Edges from marital status\n",
    "    ['marital-status', 'occupation'],\n",
    "    ['marital-status', 'hours-per-week'],\n",
    "    ['marital-status', 'income'],\n",
    "    ['marital-status', 'workclass'],\n",
    "    ['marital-status', 'relationship'],\n",
    "    ['marital-status', 'education'],\n",
    "    \n",
    "    # Edges from education\n",
    "    ['education', 'occupation'],\n",
    "    ['education', 'hours-per-week'],\n",
    "    ['education', 'income'],\n",
    "    ['education', 'workclass'],\n",
    "    ['education', 'relationship'],\n",
    "    \n",
    "    # All remaining edges\n",
    "    ['occupation', 'income'],\n",
    "    ['hours-per-week', 'income'],\n",
    "    ['workclass', 'income'],\n",
    "    ['relationship', 'income'],\n",
    "]\n",
    "\n",
    "def dag_to_idx(df, dag):\n",
    "    \"\"\"Convert columns in a DAG to the corresponding indices.\"\"\"\n",
    "\n",
    "    dag_idx = []\n",
    "    for edge in dag:\n",
    "        dag_idx.append([df.columns.get_loc(edge[0]), df.columns.get_loc(edge[1])])\n",
    "\n",
    "    return dag_idx\n",
    "\n",
    "# Convert the DAG to one that can be provided to the DECAF model\n",
    "dag_seed = dag_to_idx(dataset, dag)\n",
    "print(dag_seed)"
   ]
  },
  {
   "cell_type": "markdown",
   "metadata": {},
   "source": [
    "It's also necessary to define edges we want to remove from the DAG in order to meet the various fairness criteria described in the paper."
   ]
  },
  {
   "cell_type": "code",
   "execution_count": 7,
   "metadata": {},
   "outputs": [
    {
     "name": "stdout",
     "output_type": "stream",
     "text": [
      "Bias dict FTU: {14: [9]}\n",
      "Bias dict DP: {14: [6, 12, 5, 3, 9, 1, 7]}\n",
      "Bias dict CF: {14: [5, 9]}\n"
     ]
    }
   ],
   "source": [
    "def create_bias_dict(df, edge_map):\n",
    "    \"\"\"\n",
    "    Convert the given edge tuples to a bias dict used for generating\n",
    "    debiased synthetic data.\n",
    "    \"\"\"\n",
    "    bias_dict = {}\n",
    "    for key, val in edge_map.items():\n",
    "        bias_dict[df.columns.get_loc(key)] = [df.columns.get_loc(f) for f in val]\n",
    "    \n",
    "    return bias_dict\n",
    "\n",
    "# Bias dictionary to satisfy FTU\n",
    "bias_dict_ftu = create_bias_dict(dataset, {'income': ['sex']})\n",
    "print('Bias dict FTU:', bias_dict_ftu)\n",
    "\n",
    "# Bias dictionary to satisfy DP\n",
    "bias_dict_dp = create_bias_dict(dataset, {'income': [\n",
    "    'occupation', 'hours-per-week', 'marital-status', 'education', 'sex',\n",
    "    'workclass', 'relationship']})\n",
    "print('Bias dict DP:', bias_dict_dp)\n",
    "\n",
    "# Bias dictionary to satisfy CF\n",
    "bias_dict_cf = create_bias_dict(dataset, {'income': [\n",
    "    'marital-status', 'sex']})\n",
    "print('Bias dict CF:', bias_dict_cf)"
   ]
  },
  {
   "cell_type": "markdown",
   "metadata": {},
   "source": [
    "## Experiments\n",
    "\n",
    "We have loaded and preprocessed the data and we are ready to run the experiments. For each experiment we train a generative model, sample synthetic data from the trained model and then obtain metrics by training and evaluating a downstream multi-layer perceptron using the test fold we generated in the previous section. We use the MLP model from `sklearn` with default parameters which matches the settings described in Appendix D of the paper."
   ]
  },
  {
   "cell_type": "code",
   "execution_count": 8,
   "metadata": {},
   "outputs": [],
   "source": [
    "models_dir = './cache/'\n",
    "\n",
    "def train_decaf(train_dataset, dag_seed, test_dataset, biased_edges={}, h_dim=200, lr=0.5e-3,\n",
    "                batch_size=64, lambda_privacy=0, lambda_gp=10, d_updates=10,\n",
    "                alpha=2, rho=2, weight_decay=1e-2, grad_dag_loss=False, l1_g=0,\n",
    "                l1_W=1e-4, p_gen=-1, use_mask=True, epochs=50, model_name='decaf', generate_test=False):\n",
    "    \n",
    "    model_filename = os.path.join(models_dir, f'{model_name}.pkl')\n",
    "\n",
    "    dm = DataModule(train_dataset.values)\n",
    "    dm_test = DataModule(test_dataset.values)\n",
    "     \n",
    "    model = DECAF(\n",
    "        dm.dims[0],\n",
    "        dag_seed=dag_seed,\n",
    "        h_dim=h_dim,\n",
    "        lr=lr,\n",
    "        batch_size=batch_size,\n",
    "        lambda_privacy=lambda_privacy,\n",
    "        lambda_gp=lambda_gp,\n",
    "        d_updates=d_updates,\n",
    "        alpha=alpha,\n",
    "        rho=rho,\n",
    "        weight_decay=weight_decay,\n",
    "        grad_dag_loss=grad_dag_loss,\n",
    "        l1_g=l1_g,\n",
    "        l1_W=l1_W,\n",
    "        p_gen=p_gen,\n",
    "        use_mask=use_mask,\n",
    "    )\n",
    "\n",
    "    if os.path.exists(model_filename):\n",
    "        model = torch.load(model_filename)\n",
    "    else:\n",
    "        trainer = pl.Trainer(max_epochs=epochs, logger=False)\n",
    "        trainer.fit(model, dm)\n",
    "        torch.save(model, model_filename)\n",
    "\n",
    "    # Generate synthetic data\n",
    "    synth_dataset = (\n",
    "        model.gen_synthetic(\n",
    "            dm.dataset.x,\n",
    "            gen_order=model.get_gen_order(),\n",
    "            biased_edges=biased_edges,\n",
    "        )\n",
    "        .detach()\n",
    "        .numpy()\n",
    "    )\n",
    "    synth_dataset[:, -1] = synth_dataset[:, -1].astype(np.int8)\n",
    "\n",
    "    synth_dataset = pd.DataFrame(synth_dataset,\n",
    "                                 index=train_dataset.index,\n",
    "                                 columns=train_dataset.columns)\n",
    "    if generate_test:\n",
    "        synth_dataset_x_test = (\n",
    "            model.gen_synthetic(\n",
    "                dm_test.dataset.x,\n",
    "                gen_order=model.get_gen_order(),\n",
    "                biased_edges=biased_edges,\n",
    "            )\n",
    "            .detach()\n",
    "            .numpy()\n",
    "        )\n",
    "        synth_dataset_x_test[:, -1] = synth_dataset_x_test[:, -1].astype(np.int8)\n",
    "\n",
    "        synth_dataset_x_test = pd.DataFrame(synth_dataset_x_test,\n",
    "                                    index=test_dataset.index,\n",
    "                                    columns=test_dataset.columns)\n",
    "\n",
    "    if 'approved' in synth_dataset.columns:\n",
    "        # Binarise columns for credit dataset\n",
    "        synth_dataset['ethnicity'] = np.round(synth_dataset['ethnicity'])\n",
    "        synth_dataset['approved'] = np.round(synth_dataset['approved'])\n",
    "    else:\n",
    "        # Binarise columns for adult dataset\n",
    "        synth_dataset['sex'] = np.round(synth_dataset['sex'])\n",
    "        synth_dataset['income'] = np.round(synth_dataset['income'])\n",
    "\n",
    "        synth_dataset_x_test['sex'] = np.round(synth_dataset_x_test['sex'])\n",
    "        synth_dataset_x_test['income'] = np.round(synth_dataset_x_test['income'])\n",
    "\n",
    "    return synth_dataset, synth_dataset_x_test"
   ]
  },
  {
   "cell_type": "code",
   "execution_count": 8,
   "metadata": {},
   "outputs": [],
   "source": [
    "def eval_model(dataset_train, dataset_test):\n",
    "    \"\"\"Helper function that prints evaluation metrics.\"\"\"\n",
    "\n",
    "    X_train, y_train = dataset_train.drop(columns=['income']), dataset_train['income']\n",
    "    X_test, y_test = dataset_test.drop(columns=['income']), dataset_test['income']\n",
    "\n",
    "    clf = MLPClassifier()\n",
    "    clf.fit(X_train, y_train)\n",
    "    y_pred = clf.predict(X_test)\n",
    "\n",
    "    precision = precision_score(y_test, y_pred)\n",
    "    recall = recall_score(y_test, y_pred)\n",
    "    auroc = roc_auc_score(y_test, y_pred)\n",
    "    dp = DP(clf, X_test)\n",
    "    ftu = FTU(clf, X_test)\n",
    "\n",
    "    return {'precision': precision, 'recall': recall, 'auroc': auroc,\n",
    "            'dp': dp, 'ftu': ftu}"
   ]
  },
  {
   "cell_type": "code",
   "execution_count": 9,
   "metadata": {},
   "outputs": [],
   "source": [
    "def eval_goggle(X_test, X_synth):\n",
    "    quality_evaluator = eval_statistical.AlphaPrecision()\n",
    "    qual_res = quality_evaluator.evaluate(X_test, X_synth)\n",
    "    qual_res = {\n",
    "        k: v for (k, v) in qual_res.items() if \"naive\" in k\n",
    "    }  # use the naive implementation of AlphaPrecision\n",
    "    qual_score = np.mean(list(qual_res.values()))\n",
    "\n",
    "    xgb_evaluator = eval_performance.PerformanceEvaluatorXGB()\n",
    "    linear_evaluator = eval_performance.PerformanceEvaluatorLinear()\n",
    "    mlp_evaluator = eval_performance.PerformanceEvaluatorMLP()\n",
    "    xgb_score = xgb_evaluator.evaluate(X_test, X_synth)\n",
    "    linear_score = linear_evaluator.evaluate(X_test, X_synth)\n",
    "    mlp_score = mlp_evaluator.evaluate(X_test, X_synth)\n",
    "    gt_perf = (xgb_score[\"gt\"] + linear_score[\"gt\"] + mlp_score[\"gt\"]) / 3\n",
    "    synth_perf = (\n",
    "        xgb_score[\"syn_ood\"] + linear_score[\"syn_ood\"] + mlp_score[\"syn_ood\"]\n",
    "    ) / 3\n",
    "\n",
    "    xgb_detector = eval_detection.SyntheticDetectionXGB()\n",
    "    mlp_detector = eval_detection.SyntheticDetectionMLP()\n",
    "    gmm_detector = eval_detection.SyntheticDetectionGMM()\n",
    "    xgb_det = xgb_detector.evaluate(X_test, X_synth)\n",
    "    mlp_det = mlp_detector.evaluate(X_test, X_synth)\n",
    "    gmm_det = gmm_detector.evaluate(X_test, X_synth)\n",
    "    det_score = (xgb_det[\"mean\"] + mlp_det[\"mean\"] + gmm_det[\"mean\"]) / 3\n",
    "\n",
    "    return qual_score, (gt_perf, synth_perf), det_score"
   ]
  },
  {
   "cell_type": "markdown",
   "metadata": {},
   "source": [
    "### Original dataset\n",
    "\n",
    "As a benchmark we want to first train the downstream model on the original dataset."
   ]
  },
  {
   "cell_type": "code",
   "execution_count": 11,
   "metadata": {},
   "outputs": [
    {
     "data": {
      "text/plain": [
       "{'precision': 0.8834394904458599,\n",
       " 'recall': 0.9222074468085106,\n",
       " 'auroc': 0.7766279169526424,\n",
       " 'dp': 0.19207586973309976,\n",
       " 'ftu': 0.02300000000000002}"
      ]
     },
     "execution_count": 11,
     "metadata": {},
     "output_type": "execute_result"
    }
   ],
   "source": [
    "eval_model(dataset_train, dataset_test)"
   ]
  },
  {
   "cell_type": "markdown",
   "metadata": {},
   "source": [
    "In the following sections we train various models in order to reproduce the results from Table 2 of the DECAF paper."
   ]
  },
  {
   "cell_type": "markdown",
   "metadata": {},
   "source": [
    "### GAN"
   ]
  },
  {
   "cell_type": "code",
   "execution_count": 31,
   "metadata": {},
   "outputs": [
    {
     "name": "stderr",
     "output_type": "stream",
     "text": [
      "2023-07-24 13:43:38.290828: I tensorflow/compiler/jit/xla_cpu_device.cc:41] Not creating XLA devices, tf_xla_enable_xla_devices not set\n",
      "2023-07-24 13:43:38.557989: W tensorflow/stream_executor/platform/default/dso_loader.cc:60] Could not load dynamic library 'libcuda.so.1'; dlerror: libcuda.so.1: cannot open shared object file: No such file or directory\n",
      "2023-07-24 13:43:38.564195: W tensorflow/stream_executor/cuda/cuda_driver.cc:326] failed call to cuInit: UNKNOWN ERROR (303)\n",
      "2023-07-24 13:43:38.573554: I tensorflow/stream_executor/cuda/cuda_diagnostics.cc:156] kernel driver does not appear to be running on this host (LAPTOP-V7B5NBEP): /proc/driver/nvidia/version does not exist\n",
      "2023-07-24 13:43:40.115972: I tensorflow/core/platform/cpu_feature_guard.cc:142] This TensorFlow binary is optimized with oneAPI Deep Neural Network Library (oneDNN) to use the following CPU instructions in performance-critical operations:  AVX2 AVX512F FMA\n",
      "To enable them in other operations, rebuild TensorFlow with the appropriate compiler flags.\n",
      "2023-07-24 13:43:40.118523: I tensorflow/compiler/jit/xla_gpu_device.cc:99] Not creating XLA devices, tf_xla_enable_xla_devices not set\n"
     ]
    },
    {
     "name": "stdout",
     "output_type": "stream",
     "text": [
      "Epoch 17:  40%|████      | 271/676 [116:04:05<173:27:34, 1541.86s/it, loss=-0.173]\n"
     ]
    },
    {
     "name": "stderr",
     "output_type": "stream",
     "text": [
      "  0%|          | 0/50 [00:00<?, ?it/s]2023-07-24 13:43:47.621733: I tensorflow/compiler/mlir/mlir_graph_optimization_pass.cc:116] None of the MLIR optimization passes are enabled (registered 2)\n",
      "2023-07-24 13:43:47.655306: I tensorflow/core/platform/profile_utils/cpu_utils.cc:112] CPU Frequency: 2419205000 Hz\n"
     ]
    },
    {
     "name": "stdout",
     "output_type": "stream",
     "text": [
      "0 [D loss: 0.000159, acc.: 100.00%] [G loss: 40.029396]\n"
     ]
    },
    {
     "name": "stderr",
     "output_type": "stream",
     "text": [
      "  2%|▏         | 1/50 [00:27<22:31, 27.58s/it]"
     ]
    },
    {
     "name": "stdout",
     "output_type": "stream",
     "text": [
      "generated_data\n"
     ]
    },
    {
     "name": "stderr",
     "output_type": "stream",
     "text": [
      "  4%|▍         | 2/50 [00:49<19:33, 24.45s/it]"
     ]
    },
    {
     "name": "stdout",
     "output_type": "stream",
     "text": [
      "1 [D loss: 0.000004, acc.: 100.00%] [G loss: 69.241051]\n"
     ]
    },
    {
     "name": "stderr",
     "output_type": "stream",
     "text": [
      "  6%|▌         | 3/50 [01:13<18:56, 24.19s/it]"
     ]
    },
    {
     "name": "stdout",
     "output_type": "stream",
     "text": [
      "2 [D loss: 0.000001, acc.: 100.00%] [G loss: 89.717522]\n"
     ]
    },
    {
     "name": "stderr",
     "output_type": "stream",
     "text": [
      "  8%|▊         | 4/50 [01:36<18:15, 23.82s/it]"
     ]
    },
    {
     "name": "stdout",
     "output_type": "stream",
     "text": [
      "3 [D loss: 0.000001, acc.: 100.00%] [G loss: 112.376114]\n"
     ]
    },
    {
     "name": "stderr",
     "output_type": "stream",
     "text": [
      " 10%|█         | 5/50 [02:01<18:04, 24.09s/it]"
     ]
    },
    {
     "name": "stdout",
     "output_type": "stream",
     "text": [
      "4 [D loss: 0.000001, acc.: 100.00%] [G loss: 126.050262]\n"
     ]
    },
    {
     "name": "stderr",
     "output_type": "stream",
     "text": [
      " 12%|█▏        | 6/50 [02:22<16:57, 23.12s/it]"
     ]
    },
    {
     "name": "stdout",
     "output_type": "stream",
     "text": [
      "5 [D loss: 0.000000, acc.: 100.00%] [G loss: 128.806671]\n"
     ]
    },
    {
     "name": "stderr",
     "output_type": "stream",
     "text": [
      " 14%|█▍        | 7/50 [02:41<15:38, 21.83s/it]"
     ]
    },
    {
     "name": "stdout",
     "output_type": "stream",
     "text": [
      "6 [D loss: 0.000003, acc.: 100.00%] [G loss: 138.328171]\n"
     ]
    },
    {
     "name": "stderr",
     "output_type": "stream",
     "text": [
      " 16%|█▌        | 8/50 [03:01<14:47, 21.12s/it]"
     ]
    },
    {
     "name": "stdout",
     "output_type": "stream",
     "text": [
      "7 [D loss: 0.000000, acc.: 100.00%] [G loss: 151.230377]\n"
     ]
    },
    {
     "name": "stderr",
     "output_type": "stream",
     "text": [
      " 18%|█▊        | 9/50 [03:23<14:33, 21.31s/it]"
     ]
    },
    {
     "name": "stdout",
     "output_type": "stream",
     "text": [
      "8 [D loss: 0.000000, acc.: 100.00%] [G loss: 164.476807]\n"
     ]
    },
    {
     "name": "stderr",
     "output_type": "stream",
     "text": [
      " 20%|██        | 10/50 [03:44<14:10, 21.26s/it]"
     ]
    },
    {
     "name": "stdout",
     "output_type": "stream",
     "text": [
      "9 [D loss: 0.000000, acc.: 100.00%] [G loss: 184.275070]\n"
     ]
    },
    {
     "name": "stderr",
     "output_type": "stream",
     "text": [
      " 22%|██▏       | 11/50 [04:07<14:15, 21.93s/it]"
     ]
    },
    {
     "name": "stdout",
     "output_type": "stream",
     "text": [
      "10 [D loss: 0.000000, acc.: 100.00%] [G loss: 171.705780]\n"
     ]
    },
    {
     "name": "stderr",
     "output_type": "stream",
     "text": [
      " 24%|██▍       | 12/50 [04:29<13:49, 21.84s/it]"
     ]
    },
    {
     "name": "stdout",
     "output_type": "stream",
     "text": [
      "11 [D loss: 0.000000, acc.: 100.00%] [G loss: 196.511871]\n"
     ]
    },
    {
     "name": "stderr",
     "output_type": "stream",
     "text": [
      " 26%|██▌       | 13/50 [04:48<13:00, 21.10s/it]"
     ]
    },
    {
     "name": "stdout",
     "output_type": "stream",
     "text": [
      "12 [D loss: 0.000000, acc.: 100.00%] [G loss: 198.392395]\n"
     ]
    },
    {
     "name": "stderr",
     "output_type": "stream",
     "text": [
      " 28%|██▊       | 14/50 [05:08<12:20, 20.57s/it]"
     ]
    },
    {
     "name": "stdout",
     "output_type": "stream",
     "text": [
      "13 [D loss: 0.000001, acc.: 100.00%] [G loss: 201.853607]\n"
     ]
    },
    {
     "name": "stderr",
     "output_type": "stream",
     "text": [
      " 30%|███       | 15/50 [05:29<12:07, 20.78s/it]"
     ]
    },
    {
     "name": "stdout",
     "output_type": "stream",
     "text": [
      "14 [D loss: 0.000000, acc.: 100.00%] [G loss: 223.310440]\n"
     ]
    },
    {
     "name": "stderr",
     "output_type": "stream",
     "text": [
      " 32%|███▏      | 16/50 [05:52<12:11, 21.51s/it]"
     ]
    },
    {
     "name": "stdout",
     "output_type": "stream",
     "text": [
      "15 [D loss: 0.000004, acc.: 100.00%] [G loss: 228.240662]\n"
     ]
    },
    {
     "name": "stderr",
     "output_type": "stream",
     "text": [
      " 34%|███▍      | 17/50 [06:14<11:51, 21.55s/it]"
     ]
    },
    {
     "name": "stdout",
     "output_type": "stream",
     "text": [
      "16 [D loss: 0.000000, acc.: 100.00%] [G loss: 221.520203]\n"
     ]
    },
    {
     "name": "stderr",
     "output_type": "stream",
     "text": [
      " 36%|███▌      | 18/50 [06:37<11:40, 21.88s/it]"
     ]
    },
    {
     "name": "stdout",
     "output_type": "stream",
     "text": [
      "17 [D loss: 0.000000, acc.: 100.00%] [G loss: 224.175293]\n"
     ]
    },
    {
     "name": "stderr",
     "output_type": "stream",
     "text": [
      " 38%|███▊      | 19/50 [07:04<12:08, 23.49s/it]"
     ]
    },
    {
     "name": "stdout",
     "output_type": "stream",
     "text": [
      "18 [D loss: 0.000001, acc.: 100.00%] [G loss: 230.776550]\n"
     ]
    },
    {
     "name": "stderr",
     "output_type": "stream",
     "text": [
      " 40%|████      | 20/50 [07:29<12:04, 24.15s/it]"
     ]
    },
    {
     "name": "stdout",
     "output_type": "stream",
     "text": [
      "19 [D loss: 0.000000, acc.: 100.00%] [G loss: 250.125916]\n"
     ]
    },
    {
     "name": "stderr",
     "output_type": "stream",
     "text": [
      " 42%|████▏     | 21/50 [07:50<11:12, 23.20s/it]"
     ]
    },
    {
     "name": "stdout",
     "output_type": "stream",
     "text": [
      "20 [D loss: 0.000000, acc.: 100.00%] [G loss: 249.634354]\n"
     ]
    },
    {
     "name": "stderr",
     "output_type": "stream",
     "text": [
      " 44%|████▍     | 22/50 [08:09<10:09, 21.75s/it]"
     ]
    },
    {
     "name": "stdout",
     "output_type": "stream",
     "text": [
      "21 [D loss: 0.000000, acc.: 100.00%] [G loss: 258.159851]\n"
     ]
    },
    {
     "name": "stderr",
     "output_type": "stream",
     "text": [
      " 46%|████▌     | 23/50 [08:27<09:19, 20.74s/it]"
     ]
    },
    {
     "name": "stdout",
     "output_type": "stream",
     "text": [
      "22 [D loss: 0.000000, acc.: 100.00%] [G loss: 269.017944]\n"
     ]
    },
    {
     "name": "stderr",
     "output_type": "stream",
     "text": [
      " 48%|████▊     | 24/50 [08:49<09:07, 21.05s/it]"
     ]
    },
    {
     "name": "stdout",
     "output_type": "stream",
     "text": [
      "23 [D loss: 0.000000, acc.: 100.00%] [G loss: 257.279541]\n"
     ]
    },
    {
     "name": "stderr",
     "output_type": "stream",
     "text": [
      " 50%|█████     | 25/50 [09:13<09:10, 22.01s/it]"
     ]
    },
    {
     "name": "stdout",
     "output_type": "stream",
     "text": [
      "24 [D loss: 0.000003, acc.: 100.00%] [G loss: 265.822815]\n"
     ]
    },
    {
     "name": "stderr",
     "output_type": "stream",
     "text": [
      " 52%|█████▏    | 26/50 [09:31<08:21, 20.89s/it]"
     ]
    },
    {
     "name": "stdout",
     "output_type": "stream",
     "text": [
      "25 [D loss: 0.000000, acc.: 100.00%] [G loss: 303.679993]\n"
     ]
    },
    {
     "name": "stderr",
     "output_type": "stream",
     "text": [
      " 54%|█████▍    | 27/50 [09:47<07:22, 19.25s/it]"
     ]
    },
    {
     "name": "stdout",
     "output_type": "stream",
     "text": [
      "26 [D loss: 0.000000, acc.: 100.00%] [G loss: 277.542603]\n"
     ]
    },
    {
     "name": "stderr",
     "output_type": "stream",
     "text": [
      " 56%|█████▌    | 28/50 [10:02<06:38, 18.13s/it]"
     ]
    },
    {
     "name": "stdout",
     "output_type": "stream",
     "text": [
      "27 [D loss: 0.000000, acc.: 100.00%] [G loss: 286.166229]\n"
     ]
    },
    {
     "name": "stderr",
     "output_type": "stream",
     "text": [
      " 58%|█████▊    | 29/50 [10:18<06:04, 17.35s/it]"
     ]
    },
    {
     "name": "stdout",
     "output_type": "stream",
     "text": [
      "28 [D loss: 0.000000, acc.: 100.00%] [G loss: 260.385101]\n"
     ]
    },
    {
     "name": "stderr",
     "output_type": "stream",
     "text": [
      " 60%|██████    | 30/50 [10:34<05:39, 16.95s/it]"
     ]
    },
    {
     "name": "stdout",
     "output_type": "stream",
     "text": [
      "29 [D loss: 0.000000, acc.: 100.00%] [G loss: 270.920013]\n"
     ]
    },
    {
     "name": "stderr",
     "output_type": "stream",
     "text": [
      " 62%|██████▏   | 31/50 [10:49<05:10, 16.35s/it]"
     ]
    },
    {
     "name": "stdout",
     "output_type": "stream",
     "text": [
      "30 [D loss: 0.000000, acc.: 100.00%] [G loss: 316.056274]\n"
     ]
    },
    {
     "name": "stderr",
     "output_type": "stream",
     "text": [
      " 64%|██████▍   | 32/50 [11:04<04:46, 15.89s/it]"
     ]
    },
    {
     "name": "stdout",
     "output_type": "stream",
     "text": [
      "31 [D loss: 0.000000, acc.: 100.00%] [G loss: 296.471771]\n"
     ]
    },
    {
     "name": "stderr",
     "output_type": "stream",
     "text": [
      " 66%|██████▌   | 33/50 [11:19<04:26, 15.67s/it]"
     ]
    },
    {
     "name": "stdout",
     "output_type": "stream",
     "text": [
      "32 [D loss: 0.000000, acc.: 100.00%] [G loss: 287.187866]\n"
     ]
    },
    {
     "name": "stderr",
     "output_type": "stream",
     "text": [
      " 68%|██████▊   | 34/50 [11:35<04:11, 15.75s/it]"
     ]
    },
    {
     "name": "stdout",
     "output_type": "stream",
     "text": [
      "33 [D loss: 0.000000, acc.: 100.00%] [G loss: 307.802979]\n"
     ]
    },
    {
     "name": "stderr",
     "output_type": "stream",
     "text": [
      " 70%|███████   | 35/50 [11:50<03:54, 15.64s/it]"
     ]
    },
    {
     "name": "stdout",
     "output_type": "stream",
     "text": [
      "34 [D loss: 0.000001, acc.: 100.00%] [G loss: 298.326385]\n"
     ]
    },
    {
     "name": "stderr",
     "output_type": "stream",
     "text": [
      " 72%|███████▏  | 36/50 [12:09<03:52, 16.60s/it]"
     ]
    },
    {
     "name": "stdout",
     "output_type": "stream",
     "text": [
      "35 [D loss: 0.000000, acc.: 100.00%] [G loss: 339.156494]\n"
     ]
    },
    {
     "name": "stderr",
     "output_type": "stream",
     "text": [
      " 74%|███████▍  | 37/50 [12:25<03:31, 16.29s/it]"
     ]
    },
    {
     "name": "stdout",
     "output_type": "stream",
     "text": [
      "36 [D loss: 0.052112, acc.: 99.61%] [G loss: 330.582794]\n"
     ]
    },
    {
     "name": "stderr",
     "output_type": "stream",
     "text": [
      " 76%|███████▌  | 38/50 [12:45<03:28, 17.39s/it]"
     ]
    },
    {
     "name": "stdout",
     "output_type": "stream",
     "text": [
      "37 [D loss: 0.000000, acc.: 100.00%] [G loss: 316.654327]\n"
     ]
    },
    {
     "name": "stderr",
     "output_type": "stream",
     "text": [
      " 78%|███████▊  | 39/50 [13:05<03:21, 18.28s/it]"
     ]
    },
    {
     "name": "stdout",
     "output_type": "stream",
     "text": [
      "38 [D loss: 0.000000, acc.: 100.00%] [G loss: 347.652893]\n"
     ]
    },
    {
     "name": "stderr",
     "output_type": "stream",
     "text": [
      " 80%|████████  | 40/50 [13:23<03:02, 18.25s/it]"
     ]
    },
    {
     "name": "stdout",
     "output_type": "stream",
     "text": [
      "39 [D loss: 0.000000, acc.: 100.00%] [G loss: 324.904053]\n"
     ]
    },
    {
     "name": "stderr",
     "output_type": "stream",
     "text": [
      " 82%|████████▏ | 41/50 [13:41<02:42, 18.11s/it]"
     ]
    },
    {
     "name": "stdout",
     "output_type": "stream",
     "text": [
      "40 [D loss: 0.000000, acc.: 100.00%] [G loss: 366.127411]\n"
     ]
    },
    {
     "name": "stderr",
     "output_type": "stream",
     "text": [
      " 84%|████████▍ | 42/50 [13:59<02:24, 18.06s/it]"
     ]
    },
    {
     "name": "stdout",
     "output_type": "stream",
     "text": [
      "41 [D loss: 0.000000, acc.: 100.00%] [G loss: 324.657715]\n"
     ]
    },
    {
     "name": "stderr",
     "output_type": "stream",
     "text": [
      " 86%|████████▌ | 43/50 [14:18<02:08, 18.29s/it]"
     ]
    },
    {
     "name": "stdout",
     "output_type": "stream",
     "text": [
      "42 [D loss: 0.000001, acc.: 100.00%] [G loss: 356.669373]\n"
     ]
    },
    {
     "name": "stderr",
     "output_type": "stream",
     "text": [
      " 88%|████████▊ | 44/50 [14:34<01:45, 17.59s/it]"
     ]
    },
    {
     "name": "stdout",
     "output_type": "stream",
     "text": [
      "43 [D loss: 0.000000, acc.: 100.00%] [G loss: 347.197571]\n"
     ]
    },
    {
     "name": "stderr",
     "output_type": "stream",
     "text": [
      " 90%|█████████ | 45/50 [14:48<01:23, 16.68s/it]"
     ]
    },
    {
     "name": "stdout",
     "output_type": "stream",
     "text": [
      "44 [D loss: 0.000000, acc.: 100.00%] [G loss: 354.199738]\n"
     ]
    },
    {
     "name": "stderr",
     "output_type": "stream",
     "text": [
      " 92%|█████████▏| 46/50 [15:05<01:06, 16.67s/it]"
     ]
    },
    {
     "name": "stdout",
     "output_type": "stream",
     "text": [
      "45 [D loss: 0.000000, acc.: 100.00%] [G loss: 363.670044]\n"
     ]
    },
    {
     "name": "stderr",
     "output_type": "stream",
     "text": [
      " 94%|█████████▍| 47/50 [15:30<00:57, 19.26s/it]"
     ]
    },
    {
     "name": "stdout",
     "output_type": "stream",
     "text": [
      "46 [D loss: 0.000000, acc.: 100.00%] [G loss: 329.782135]\n"
     ]
    },
    {
     "name": "stderr",
     "output_type": "stream",
     "text": [
      " 96%|█████████▌| 48/50 [15:54<00:41, 20.62s/it]"
     ]
    },
    {
     "name": "stdout",
     "output_type": "stream",
     "text": [
      "47 [D loss: 0.000000, acc.: 100.00%] [G loss: 361.226196]\n"
     ]
    },
    {
     "name": "stderr",
     "output_type": "stream",
     "text": [
      " 98%|█████████▊| 49/50 [16:15<00:20, 20.86s/it]"
     ]
    },
    {
     "name": "stdout",
     "output_type": "stream",
     "text": [
      "48 [D loss: 0.000000, acc.: 100.00%] [G loss: 356.410614]\n"
     ]
    },
    {
     "name": "stderr",
     "output_type": "stream",
     "text": [
      "100%|██████████| 50/50 [16:36<00:00, 19.94s/it]\n"
     ]
    },
    {
     "name": "stdout",
     "output_type": "stream",
     "text": [
      "49 [D loss: 0.000000, acc.: 100.00%] [G loss: 381.815826]\n"
     ]
    },
    {
     "name": "stderr",
     "output_type": "stream",
     "text": [
      "Synthetic data generation: 100%|██████████| 338/338 [00:06<00:00, 53.68it/s]\n"
     ]
    },
    {
     "data": {
      "text/html": [
       "<div>\n",
       "<style scoped>\n",
       "    .dataframe tbody tr th:only-of-type {\n",
       "        vertical-align: middle;\n",
       "    }\n",
       "\n",
       "    .dataframe tbody tr th {\n",
       "        vertical-align: top;\n",
       "    }\n",
       "\n",
       "    .dataframe thead th {\n",
       "        text-align: right;\n",
       "    }\n",
       "</style>\n",
       "<table border=\"1\" class=\"dataframe\">\n",
       "  <thead>\n",
       "    <tr style=\"text-align: right;\">\n",
       "      <th></th>\n",
       "      <th>age</th>\n",
       "      <th>workclass</th>\n",
       "      <th>fnlwgt</th>\n",
       "      <th>education</th>\n",
       "      <th>education-num</th>\n",
       "      <th>marital-status</th>\n",
       "      <th>occupation</th>\n",
       "      <th>relationship</th>\n",
       "      <th>race</th>\n",
       "      <th>sex</th>\n",
       "      <th>capital-gain</th>\n",
       "      <th>capital-loss</th>\n",
       "      <th>hours-per-week</th>\n",
       "      <th>native-country</th>\n",
       "      <th>income</th>\n",
       "    </tr>\n",
       "  </thead>\n",
       "  <tbody>\n",
       "    <tr>\n",
       "      <th>0</th>\n",
       "      <td>-0.000553</td>\n",
       "      <td>0.666667</td>\n",
       "      <td>0.014988</td>\n",
       "      <td>0.333333</td>\n",
       "      <td>0.133333</td>\n",
       "      <td>0.333333</td>\n",
       "      <td>0.846154</td>\n",
       "      <td>0.6</td>\n",
       "      <td>0.00</td>\n",
       "      <td>1.0</td>\n",
       "      <td>0.0261</td>\n",
       "      <td>-0.034176</td>\n",
       "      <td>-0.017084</td>\n",
       "      <td>0.425</td>\n",
       "      <td>0.0</td>\n",
       "    </tr>\n",
       "    <tr>\n",
       "      <th>1</th>\n",
       "      <td>-0.000553</td>\n",
       "      <td>0.333333</td>\n",
       "      <td>0.014988</td>\n",
       "      <td>0.666667</td>\n",
       "      <td>0.533333</td>\n",
       "      <td>0.333333</td>\n",
       "      <td>0.846154</td>\n",
       "      <td>1.0</td>\n",
       "      <td>0.75</td>\n",
       "      <td>1.0</td>\n",
       "      <td>0.0261</td>\n",
       "      <td>-0.034176</td>\n",
       "      <td>-0.017084</td>\n",
       "      <td>0.275</td>\n",
       "      <td>1.0</td>\n",
       "    </tr>\n",
       "    <tr>\n",
       "      <th>2</th>\n",
       "      <td>-0.000553</td>\n",
       "      <td>0.833333</td>\n",
       "      <td>0.014988</td>\n",
       "      <td>0.066667</td>\n",
       "      <td>0.933333</td>\n",
       "      <td>0.666667</td>\n",
       "      <td>0.000000</td>\n",
       "      <td>0.2</td>\n",
       "      <td>0.25</td>\n",
       "      <td>1.0</td>\n",
       "      <td>0.0261</td>\n",
       "      <td>-0.034176</td>\n",
       "      <td>-0.017084</td>\n",
       "      <td>0.150</td>\n",
       "      <td>1.0</td>\n",
       "    </tr>\n",
       "    <tr>\n",
       "      <th>3</th>\n",
       "      <td>-0.000553</td>\n",
       "      <td>0.166667</td>\n",
       "      <td>0.014988</td>\n",
       "      <td>0.466667</td>\n",
       "      <td>0.800000</td>\n",
       "      <td>0.166667</td>\n",
       "      <td>0.230769</td>\n",
       "      <td>0.4</td>\n",
       "      <td>0.00</td>\n",
       "      <td>0.0</td>\n",
       "      <td>0.0261</td>\n",
       "      <td>-0.034176</td>\n",
       "      <td>-0.017084</td>\n",
       "      <td>0.350</td>\n",
       "      <td>1.0</td>\n",
       "    </tr>\n",
       "    <tr>\n",
       "      <th>4</th>\n",
       "      <td>-0.000553</td>\n",
       "      <td>0.833333</td>\n",
       "      <td>0.014988</td>\n",
       "      <td>0.400000</td>\n",
       "      <td>0.533333</td>\n",
       "      <td>0.500000</td>\n",
       "      <td>0.923077</td>\n",
       "      <td>0.0</td>\n",
       "      <td>0.50</td>\n",
       "      <td>0.0</td>\n",
       "      <td>0.0261</td>\n",
       "      <td>-0.034176</td>\n",
       "      <td>-0.017084</td>\n",
       "      <td>0.475</td>\n",
       "      <td>1.0</td>\n",
       "    </tr>\n",
       "  </tbody>\n",
       "</table>\n",
       "</div>"
      ],
      "text/plain": [
       "        age  workclass    fnlwgt  education  education-num  marital-status  \\\n",
       "0 -0.000553   0.666667  0.014988   0.333333       0.133333        0.333333   \n",
       "1 -0.000553   0.333333  0.014988   0.666667       0.533333        0.333333   \n",
       "2 -0.000553   0.833333  0.014988   0.066667       0.933333        0.666667   \n",
       "3 -0.000553   0.166667  0.014988   0.466667       0.800000        0.166667   \n",
       "4 -0.000553   0.833333  0.014988   0.400000       0.533333        0.500000   \n",
       "\n",
       "   occupation  relationship  race  sex  capital-gain  capital-loss  \\\n",
       "0    0.846154           0.6  0.00  1.0        0.0261     -0.034176   \n",
       "1    0.846154           1.0  0.75  1.0        0.0261     -0.034176   \n",
       "2    0.000000           0.2  0.25  1.0        0.0261     -0.034176   \n",
       "3    0.230769           0.4  0.00  0.0        0.0261     -0.034176   \n",
       "4    0.923077           0.0  0.50  0.0        0.0261     -0.034176   \n",
       "\n",
       "   hours-per-week  native-country  income  \n",
       "0       -0.017084           0.425     0.0  \n",
       "1       -0.017084           0.275     1.0  \n",
       "2       -0.017084           0.150     1.0  \n",
       "3       -0.017084           0.350     1.0  \n",
       "4       -0.017084           0.475     1.0  "
      ]
     },
     "execution_count": 31,
     "metadata": {},
     "output_type": "execute_result"
    }
   ],
   "source": [
    "synth_data = train_vanilla_gan(dataset_train)\n",
    "synth_data.head()"
   ]
  },
  {
   "cell_type": "code",
   "execution_count": 10,
   "metadata": {},
   "outputs": [
    {
     "data": {
      "text/plain": [
       "{'precision': 0.6971736204576043,\n",
       " 'recall': 0.6888297872340425,\n",
       " 'auroc': 0.39078586135895677,\n",
       " 'dp': 0.7117996939976097,\n",
       " 'ftu': 0.47}"
      ]
     },
     "execution_count": 10,
     "metadata": {},
     "output_type": "execute_result"
    }
   ],
   "source": [
    "eval_model(synth_data, dataset_test)"
   ]
  },
  {
   "cell_type": "markdown",
   "metadata": {},
   "source": [
    "### WGAN-GP"
   ]
  },
  {
   "cell_type": "code",
   "execution_count": 11,
   "metadata": {},
   "outputs": [
    {
     "name": "stderr",
     "output_type": "stream",
     "text": [
      "  2%|▏         | 1/50 [00:05<04:48,  5.88s/it]"
     ]
    },
    {
     "name": "stdout",
     "output_type": "stream",
     "text": [
      "Epoch: 0 | disc_loss: 0.15245389938354492 | gen_loss: -0.06989498436450958\n"
     ]
    },
    {
     "name": "stderr",
     "output_type": "stream",
     "text": [
      "  4%|▍         | 2/50 [00:10<03:54,  4.89s/it]"
     ]
    },
    {
     "name": "stdout",
     "output_type": "stream",
     "text": [
      "Epoch: 1 | disc_loss: 0.0009180586785078049 | gen_loss: -0.0033318146597594023\n"
     ]
    },
    {
     "name": "stderr",
     "output_type": "stream",
     "text": [
      "  6%|▌         | 3/50 [00:14<03:36,  4.60s/it]"
     ]
    },
    {
     "name": "stdout",
     "output_type": "stream",
     "text": [
      "Epoch: 2 | disc_loss: -0.004699191078543663 | gen_loss: 0.013895398937165737\n"
     ]
    },
    {
     "name": "stderr",
     "output_type": "stream",
     "text": [
      "  8%|▊         | 4/50 [00:18<03:23,  4.42s/it]"
     ]
    },
    {
     "name": "stdout",
     "output_type": "stream",
     "text": [
      "Epoch: 3 | disc_loss: 0.4139225482940674 | gen_loss: 0.014603140763938427\n"
     ]
    },
    {
     "name": "stderr",
     "output_type": "stream",
     "text": [
      " 10%|█         | 5/50 [00:22<03:14,  4.33s/it]"
     ]
    },
    {
     "name": "stdout",
     "output_type": "stream",
     "text": [
      "Epoch: 4 | disc_loss: 1.4078881740570068 | gen_loss: 0.008926557376980782\n"
     ]
    },
    {
     "name": "stderr",
     "output_type": "stream",
     "text": [
      " 12%|█▏        | 6/50 [00:27<03:11,  4.34s/it]"
     ]
    },
    {
     "name": "stdout",
     "output_type": "stream",
     "text": [
      "Epoch: 5 | disc_loss: -0.012374036014080048 | gen_loss: 0.04716317355632782\n"
     ]
    },
    {
     "name": "stderr",
     "output_type": "stream",
     "text": [
      " 14%|█▍        | 7/50 [00:32<03:16,  4.57s/it]"
     ]
    },
    {
     "name": "stdout",
     "output_type": "stream",
     "text": [
      "Epoch: 6 | disc_loss: 1.080539345741272 | gen_loss: -0.0200481116771698\n"
     ]
    },
    {
     "name": "stderr",
     "output_type": "stream",
     "text": [
      " 16%|█▌        | 8/50 [00:36<03:09,  4.50s/it]"
     ]
    },
    {
     "name": "stdout",
     "output_type": "stream",
     "text": [
      "Epoch: 7 | disc_loss: 0.46246033906936646 | gen_loss: 0.014931818470358849\n"
     ]
    },
    {
     "name": "stderr",
     "output_type": "stream",
     "text": [
      " 18%|█▊        | 9/50 [00:40<03:02,  4.46s/it]"
     ]
    },
    {
     "name": "stdout",
     "output_type": "stream",
     "text": [
      "Epoch: 8 | disc_loss: 1.791371464729309 | gen_loss: 0.03856757655739784\n"
     ]
    },
    {
     "name": "stderr",
     "output_type": "stream",
     "text": [
      " 20%|██        | 10/50 [00:45<03:01,  4.54s/it]"
     ]
    },
    {
     "name": "stdout",
     "output_type": "stream",
     "text": [
      "Epoch: 9 | disc_loss: 0.133454367518425 | gen_loss: 0.07898350059986115\n"
     ]
    },
    {
     "name": "stderr",
     "output_type": "stream",
     "text": [
      " 22%|██▏       | 11/50 [00:49<02:54,  4.47s/it]"
     ]
    },
    {
     "name": "stdout",
     "output_type": "stream",
     "text": [
      "Epoch: 10 | disc_loss: -0.056419532746076584 | gen_loss: 0.029874488711357117\n"
     ]
    },
    {
     "name": "stderr",
     "output_type": "stream",
     "text": [
      " 24%|██▍       | 12/50 [00:54<02:48,  4.43s/it]"
     ]
    },
    {
     "name": "stdout",
     "output_type": "stream",
     "text": [
      "Epoch: 11 | disc_loss: 3.5388360023498535 | gen_loss: 0.047961827367544174\n"
     ]
    },
    {
     "name": "stderr",
     "output_type": "stream",
     "text": [
      " 26%|██▌       | 13/50 [00:59<02:49,  4.58s/it]"
     ]
    },
    {
     "name": "stdout",
     "output_type": "stream",
     "text": [
      "Epoch: 12 | disc_loss: -0.036514509469270706 | gen_loss: 0.0739879384636879\n"
     ]
    },
    {
     "name": "stderr",
     "output_type": "stream",
     "text": [
      " 28%|██▊       | 14/50 [01:03<02:44,  4.57s/it]"
     ]
    },
    {
     "name": "stdout",
     "output_type": "stream",
     "text": [
      "Epoch: 13 | disc_loss: -0.043887440115213394 | gen_loss: 0.05410666763782501\n"
     ]
    },
    {
     "name": "stderr",
     "output_type": "stream",
     "text": [
      " 30%|███       | 15/50 [01:10<02:59,  5.14s/it]"
     ]
    },
    {
     "name": "stdout",
     "output_type": "stream",
     "text": [
      "Epoch: 14 | disc_loss: -0.060908351093530655 | gen_loss: 0.06259451061487198\n"
     ]
    },
    {
     "name": "stderr",
     "output_type": "stream",
     "text": [
      " 32%|███▏      | 16/50 [01:16<03:09,  5.57s/it]"
     ]
    },
    {
     "name": "stdout",
     "output_type": "stream",
     "text": [
      "Epoch: 15 | disc_loss: -0.008532661944627762 | gen_loss: 0.06303340196609497\n"
     ]
    },
    {
     "name": "stderr",
     "output_type": "stream",
     "text": [
      " 34%|███▍      | 17/50 [01:21<02:53,  5.24s/it]"
     ]
    },
    {
     "name": "stdout",
     "output_type": "stream",
     "text": [
      "Epoch: 16 | disc_loss: -0.05893365666270256 | gen_loss: 0.05481185391545296\n"
     ]
    },
    {
     "name": "stderr",
     "output_type": "stream",
     "text": [
      " 36%|███▌      | 18/50 [01:25<02:37,  4.91s/it]"
     ]
    },
    {
     "name": "stdout",
     "output_type": "stream",
     "text": [
      "Epoch: 17 | disc_loss: -0.06201693415641785 | gen_loss: -0.008117406629025936\n"
     ]
    },
    {
     "name": "stderr",
     "output_type": "stream",
     "text": [
      " 38%|███▊      | 19/50 [01:29<02:25,  4.70s/it]"
     ]
    },
    {
     "name": "stdout",
     "output_type": "stream",
     "text": [
      "Epoch: 18 | disc_loss: -0.07819495350122452 | gen_loss: 0.014502013102173805\n"
     ]
    },
    {
     "name": "stderr",
     "output_type": "stream",
     "text": [
      " 40%|████      | 20/50 [01:33<02:15,  4.52s/it]"
     ]
    },
    {
     "name": "stdout",
     "output_type": "stream",
     "text": [
      "Epoch: 19 | disc_loss: -0.06925803422927856 | gen_loss: 0.02424549125134945\n"
     ]
    },
    {
     "name": "stderr",
     "output_type": "stream",
     "text": [
      " 42%|████▏     | 21/50 [01:38<02:12,  4.59s/it]"
     ]
    },
    {
     "name": "stdout",
     "output_type": "stream",
     "text": [
      "Epoch: 20 | disc_loss: 0.05352470278739929 | gen_loss: 0.04082176834344864\n"
     ]
    },
    {
     "name": "stderr",
     "output_type": "stream",
     "text": [
      " 44%|████▍     | 22/50 [01:42<02:08,  4.58s/it]"
     ]
    },
    {
     "name": "stdout",
     "output_type": "stream",
     "text": [
      "Epoch: 21 | disc_loss: 0.19452141225337982 | gen_loss: 0.017852380871772766\n"
     ]
    },
    {
     "name": "stderr",
     "output_type": "stream",
     "text": [
      " 46%|████▌     | 23/50 [01:47<02:04,  4.62s/it]"
     ]
    },
    {
     "name": "stdout",
     "output_type": "stream",
     "text": [
      "Epoch: 22 | disc_loss: 0.7697275876998901 | gen_loss: -0.018885279074311256\n"
     ]
    },
    {
     "name": "stderr",
     "output_type": "stream",
     "text": [
      " 48%|████▊     | 24/50 [01:52<02:01,  4.67s/it]"
     ]
    },
    {
     "name": "stdout",
     "output_type": "stream",
     "text": [
      "Epoch: 23 | disc_loss: -0.07032063603401184 | gen_loss: 0.07426878809928894\n"
     ]
    },
    {
     "name": "stderr",
     "output_type": "stream",
     "text": [
      " 50%|█████     | 25/50 [01:56<01:54,  4.57s/it]"
     ]
    },
    {
     "name": "stdout",
     "output_type": "stream",
     "text": [
      "Epoch: 24 | disc_loss: -0.07268654555082321 | gen_loss: 0.036055222153663635\n"
     ]
    },
    {
     "name": "stderr",
     "output_type": "stream",
     "text": [
      " 52%|█████▏    | 26/50 [02:00<01:47,  4.47s/it]"
     ]
    },
    {
     "name": "stdout",
     "output_type": "stream",
     "text": [
      "Epoch: 25 | disc_loss: 4.07672643661499 | gen_loss: 0.02717735432088375\n"
     ]
    },
    {
     "name": "stderr",
     "output_type": "stream",
     "text": [
      " 54%|█████▍    | 27/50 [02:05<01:42,  4.47s/it]"
     ]
    },
    {
     "name": "stdout",
     "output_type": "stream",
     "text": [
      "Epoch: 26 | disc_loss: -0.08391407877206802 | gen_loss: 0.046227939426898956\n"
     ]
    },
    {
     "name": "stderr",
     "output_type": "stream",
     "text": [
      " 56%|█████▌    | 28/50 [02:10<01:39,  4.53s/it]"
     ]
    },
    {
     "name": "stdout",
     "output_type": "stream",
     "text": [
      "Epoch: 27 | disc_loss: -0.02380479872226715 | gen_loss: 0.03740321844816208\n"
     ]
    },
    {
     "name": "stderr",
     "output_type": "stream",
     "text": [
      " 58%|█████▊    | 29/50 [02:15<01:40,  4.81s/it]"
     ]
    },
    {
     "name": "stdout",
     "output_type": "stream",
     "text": [
      "Epoch: 28 | disc_loss: 0.025824055075645447 | gen_loss: -0.0008147454354912043\n"
     ]
    },
    {
     "name": "stderr",
     "output_type": "stream",
     "text": [
      " 60%|██████    | 30/50 [02:21<01:40,  5.01s/it]"
     ]
    },
    {
     "name": "stdout",
     "output_type": "stream",
     "text": [
      "Epoch: 29 | disc_loss: 0.019960414618253708 | gen_loss: 0.0661730095744133\n"
     ]
    },
    {
     "name": "stderr",
     "output_type": "stream",
     "text": [
      " 62%|██████▏   | 31/50 [02:26<01:36,  5.05s/it]"
     ]
    },
    {
     "name": "stdout",
     "output_type": "stream",
     "text": [
      "Epoch: 30 | disc_loss: -0.06524480134248734 | gen_loss: -0.016044048592448235\n"
     ]
    },
    {
     "name": "stderr",
     "output_type": "stream",
     "text": [
      " 64%|██████▍   | 32/50 [02:31<01:29,  5.00s/it]"
     ]
    },
    {
     "name": "stdout",
     "output_type": "stream",
     "text": [
      "Epoch: 31 | disc_loss: -0.08846060186624527 | gen_loss: 0.03986186906695366\n"
     ]
    },
    {
     "name": "stderr",
     "output_type": "stream",
     "text": [
      " 66%|██████▌   | 33/50 [02:35<01:23,  4.92s/it]"
     ]
    },
    {
     "name": "stdout",
     "output_type": "stream",
     "text": [
      "Epoch: 32 | disc_loss: -0.08835487812757492 | gen_loss: 0.03278104215860367\n"
     ]
    },
    {
     "name": "stderr",
     "output_type": "stream",
     "text": [
      " 68%|██████▊   | 34/50 [02:40<01:17,  4.82s/it]"
     ]
    },
    {
     "name": "stdout",
     "output_type": "stream",
     "text": [
      "Epoch: 33 | disc_loss: -0.060576777905225754 | gen_loss: 0.03870237246155739\n"
     ]
    },
    {
     "name": "stderr",
     "output_type": "stream",
     "text": [
      " 70%|███████   | 35/50 [02:44<01:10,  4.69s/it]"
     ]
    },
    {
     "name": "stdout",
     "output_type": "stream",
     "text": [
      "Epoch: 34 | disc_loss: 0.2938733696937561 | gen_loss: 0.04040674865245819\n"
     ]
    },
    {
     "name": "stderr",
     "output_type": "stream",
     "text": [
      " 72%|███████▏  | 36/50 [02:49<01:07,  4.80s/it]"
     ]
    },
    {
     "name": "stdout",
     "output_type": "stream",
     "text": [
      "Epoch: 35 | disc_loss: -0.07837940007448196 | gen_loss: 0.04813133180141449\n"
     ]
    },
    {
     "name": "stderr",
     "output_type": "stream",
     "text": [
      " 74%|███████▍  | 37/50 [02:54<01:02,  4.80s/it]"
     ]
    },
    {
     "name": "stdout",
     "output_type": "stream",
     "text": [
      "Epoch: 36 | disc_loss: 0.9505723714828491 | gen_loss: -0.008810448460280895\n"
     ]
    },
    {
     "name": "stderr",
     "output_type": "stream",
     "text": [
      " 76%|███████▌  | 38/50 [02:59<00:57,  4.82s/it]"
     ]
    },
    {
     "name": "stdout",
     "output_type": "stream",
     "text": [
      "Epoch: 37 | disc_loss: -0.0900762602686882 | gen_loss: 0.04091276228427887\n"
     ]
    },
    {
     "name": "stderr",
     "output_type": "stream",
     "text": [
      " 78%|███████▊  | 39/50 [03:03<00:51,  4.64s/it]"
     ]
    },
    {
     "name": "stdout",
     "output_type": "stream",
     "text": [
      "Epoch: 38 | disc_loss: 0.31794506311416626 | gen_loss: 0.0437326580286026\n"
     ]
    },
    {
     "name": "stderr",
     "output_type": "stream",
     "text": [
      " 80%|████████  | 40/50 [03:07<00:44,  4.47s/it]"
     ]
    },
    {
     "name": "stdout",
     "output_type": "stream",
     "text": [
      "Epoch: 39 | disc_loss: -0.09149685502052307 | gen_loss: 0.02371656522154808\n"
     ]
    },
    {
     "name": "stderr",
     "output_type": "stream",
     "text": [
      " 82%|████████▏ | 41/50 [03:11<00:39,  4.37s/it]"
     ]
    },
    {
     "name": "stdout",
     "output_type": "stream",
     "text": [
      "Epoch: 40 | disc_loss: 0.10043340921401978 | gen_loss: 0.1226792186498642\n"
     ]
    },
    {
     "name": "stderr",
     "output_type": "stream",
     "text": [
      " 84%|████████▍ | 42/50 [03:15<00:34,  4.25s/it]"
     ]
    },
    {
     "name": "stdout",
     "output_type": "stream",
     "text": [
      "Epoch: 41 | disc_loss: -0.05715509504079819 | gen_loss: 0.04945666715502739\n"
     ]
    },
    {
     "name": "stderr",
     "output_type": "stream",
     "text": [
      " 86%|████████▌ | 43/50 [03:20<00:29,  4.22s/it]"
     ]
    },
    {
     "name": "stdout",
     "output_type": "stream",
     "text": [
      "Epoch: 42 | disc_loss: -0.08194859325885773 | gen_loss: 0.015959346666932106\n"
     ]
    },
    {
     "name": "stderr",
     "output_type": "stream",
     "text": [
      " 88%|████████▊ | 44/50 [03:24<00:25,  4.30s/it]"
     ]
    },
    {
     "name": "stdout",
     "output_type": "stream",
     "text": [
      "Epoch: 43 | disc_loss: -0.05691428855061531 | gen_loss: 0.04214879125356674\n"
     ]
    },
    {
     "name": "stderr",
     "output_type": "stream",
     "text": [
      " 90%|█████████ | 45/50 [03:29<00:22,  4.57s/it]"
     ]
    },
    {
     "name": "stdout",
     "output_type": "stream",
     "text": [
      "Epoch: 44 | disc_loss: -0.05352303385734558 | gen_loss: 0.04443015158176422\n"
     ]
    },
    {
     "name": "stderr",
     "output_type": "stream",
     "text": [
      " 92%|█████████▏| 46/50 [03:34<00:17,  4.49s/it]"
     ]
    },
    {
     "name": "stdout",
     "output_type": "stream",
     "text": [
      "Epoch: 45 | disc_loss: -0.07117447257041931 | gen_loss: 0.08183664828538895\n"
     ]
    },
    {
     "name": "stderr",
     "output_type": "stream",
     "text": [
      " 94%|█████████▍| 47/50 [03:38<00:13,  4.39s/it]"
     ]
    },
    {
     "name": "stdout",
     "output_type": "stream",
     "text": [
      "Epoch: 46 | disc_loss: -0.0995122417807579 | gen_loss: 0.05079025402665138\n"
     ]
    },
    {
     "name": "stderr",
     "output_type": "stream",
     "text": [
      " 96%|█████████▌| 48/50 [03:42<00:08,  4.33s/it]"
     ]
    },
    {
     "name": "stdout",
     "output_type": "stream",
     "text": [
      "Epoch: 47 | disc_loss: 0.03659405559301376 | gen_loss: 0.04000601917505264\n"
     ]
    },
    {
     "name": "stderr",
     "output_type": "stream",
     "text": [
      " 98%|█████████▊| 49/50 [03:46<00:04,  4.28s/it]"
     ]
    },
    {
     "name": "stdout",
     "output_type": "stream",
     "text": [
      "Epoch: 48 | disc_loss: -0.08710119128227234 | gen_loss: 0.041870132088661194\n"
     ]
    },
    {
     "name": "stderr",
     "output_type": "stream",
     "text": [
      "100%|██████████| 50/50 [03:51<00:00,  4.62s/it]\n"
     ]
    },
    {
     "name": "stdout",
     "output_type": "stream",
     "text": [
      "Epoch: 49 | disc_loss: -0.10412894934415817 | gen_loss: 0.05354977026581764\n"
     ]
    },
    {
     "name": "stderr",
     "output_type": "stream",
     "text": [
      "Synthetic data generation: 100%|██████████| 87/87 [00:01<00:00, 69.38it/s]\n"
     ]
    },
    {
     "data": {
      "text/html": [
       "<div>\n",
       "<style scoped>\n",
       "    .dataframe tbody tr th:only-of-type {\n",
       "        vertical-align: middle;\n",
       "    }\n",
       "\n",
       "    .dataframe tbody tr th {\n",
       "        vertical-align: top;\n",
       "    }\n",
       "\n",
       "    .dataframe thead th {\n",
       "        text-align: right;\n",
       "    }\n",
       "</style>\n",
       "<table border=\"1\" class=\"dataframe\">\n",
       "  <thead>\n",
       "    <tr style=\"text-align: right;\">\n",
       "      <th></th>\n",
       "      <th>age</th>\n",
       "      <th>workclass</th>\n",
       "      <th>fnlwgt</th>\n",
       "      <th>education</th>\n",
       "      <th>education-num</th>\n",
       "      <th>marital-status</th>\n",
       "      <th>occupation</th>\n",
       "      <th>relationship</th>\n",
       "      <th>race</th>\n",
       "      <th>sex</th>\n",
       "      <th>capital-gain</th>\n",
       "      <th>capital-loss</th>\n",
       "      <th>hours-per-week</th>\n",
       "      <th>native-country</th>\n",
       "      <th>income</th>\n",
       "    </tr>\n",
       "  </thead>\n",
       "  <tbody>\n",
       "    <tr>\n",
       "      <th>0</th>\n",
       "      <td>0.415160</td>\n",
       "      <td>0.333333</td>\n",
       "      <td>0.136200</td>\n",
       "      <td>0.333333</td>\n",
       "      <td>0.600000</td>\n",
       "      <td>0.166667</td>\n",
       "      <td>0.307692</td>\n",
       "      <td>1.0</td>\n",
       "      <td>1.00</td>\n",
       "      <td>1.0</td>\n",
       "      <td>0.000021</td>\n",
       "      <td>0.041940</td>\n",
       "      <td>0.407321</td>\n",
       "      <td>0.375</td>\n",
       "      <td>0.0</td>\n",
       "    </tr>\n",
       "    <tr>\n",
       "      <th>1</th>\n",
       "      <td>0.452994</td>\n",
       "      <td>0.666667</td>\n",
       "      <td>0.128935</td>\n",
       "      <td>0.400000</td>\n",
       "      <td>0.800000</td>\n",
       "      <td>0.500000</td>\n",
       "      <td>0.846154</td>\n",
       "      <td>0.2</td>\n",
       "      <td>0.75</td>\n",
       "      <td>0.0</td>\n",
       "      <td>-0.026776</td>\n",
       "      <td>0.029268</td>\n",
       "      <td>0.403623</td>\n",
       "      <td>0.100</td>\n",
       "      <td>0.0</td>\n",
       "    </tr>\n",
       "    <tr>\n",
       "      <th>2</th>\n",
       "      <td>0.500516</td>\n",
       "      <td>0.166667</td>\n",
       "      <td>0.204948</td>\n",
       "      <td>0.066667</td>\n",
       "      <td>0.933333</td>\n",
       "      <td>0.666667</td>\n",
       "      <td>1.000000</td>\n",
       "      <td>0.0</td>\n",
       "      <td>0.00</td>\n",
       "      <td>1.0</td>\n",
       "      <td>-0.028636</td>\n",
       "      <td>0.001469</td>\n",
       "      <td>0.480637</td>\n",
       "      <td>0.400</td>\n",
       "      <td>0.0</td>\n",
       "    </tr>\n",
       "    <tr>\n",
       "      <th>3</th>\n",
       "      <td>0.208567</td>\n",
       "      <td>0.500000</td>\n",
       "      <td>0.118594</td>\n",
       "      <td>0.600000</td>\n",
       "      <td>0.800000</td>\n",
       "      <td>0.833333</td>\n",
       "      <td>0.307692</td>\n",
       "      <td>0.0</td>\n",
       "      <td>1.00</td>\n",
       "      <td>0.0</td>\n",
       "      <td>-0.027901</td>\n",
       "      <td>0.015777</td>\n",
       "      <td>0.280495</td>\n",
       "      <td>0.475</td>\n",
       "      <td>0.0</td>\n",
       "    </tr>\n",
       "    <tr>\n",
       "      <th>4</th>\n",
       "      <td>0.430072</td>\n",
       "      <td>0.166667</td>\n",
       "      <td>0.126853</td>\n",
       "      <td>0.666667</td>\n",
       "      <td>0.466667</td>\n",
       "      <td>0.000000</td>\n",
       "      <td>0.384615</td>\n",
       "      <td>0.0</td>\n",
       "      <td>0.00</td>\n",
       "      <td>0.0</td>\n",
       "      <td>-0.030149</td>\n",
       "      <td>0.020552</td>\n",
       "      <td>0.380429</td>\n",
       "      <td>0.650</td>\n",
       "      <td>1.0</td>\n",
       "    </tr>\n",
       "  </tbody>\n",
       "</table>\n",
       "</div>"
      ],
      "text/plain": [
       "        age  workclass    fnlwgt  education  education-num  marital-status  \\\n",
       "0  0.415160   0.333333  0.136200   0.333333       0.600000        0.166667   \n",
       "1  0.452994   0.666667  0.128935   0.400000       0.800000        0.500000   \n",
       "2  0.500516   0.166667  0.204948   0.066667       0.933333        0.666667   \n",
       "3  0.208567   0.500000  0.118594   0.600000       0.800000        0.833333   \n",
       "4  0.430072   0.166667  0.126853   0.666667       0.466667        0.000000   \n",
       "\n",
       "   occupation  relationship  race  sex  capital-gain  capital-loss  \\\n",
       "0    0.307692           1.0  1.00  1.0      0.000021      0.041940   \n",
       "1    0.846154           0.2  0.75  0.0     -0.026776      0.029268   \n",
       "2    1.000000           0.0  0.00  1.0     -0.028636      0.001469   \n",
       "3    0.307692           0.0  1.00  0.0     -0.027901      0.015777   \n",
       "4    0.384615           0.0  0.00  0.0     -0.030149      0.020552   \n",
       "\n",
       "   hours-per-week  native-country  income  \n",
       "0        0.407321           0.375     0.0  \n",
       "1        0.403623           0.100     0.0  \n",
       "2        0.480637           0.400     0.0  \n",
       "3        0.280495           0.475     0.0  \n",
       "4        0.380429           0.650     1.0  "
      ]
     },
     "execution_count": 11,
     "metadata": {},
     "output_type": "execute_result"
    }
   ],
   "source": [
    "synth_data = train_wgan_gp(dataset_train)\n",
    "synth_data.head()"
   ]
  },
  {
   "cell_type": "code",
   "execution_count": 12,
   "metadata": {},
   "outputs": [
    {
     "data": {
      "text/plain": [
       "{'precision': 0.7207890743550834,\n",
       " 'recall': 0.3158244680851064,\n",
       " 'auroc': 0.47242836307481123,\n",
       " 'dp': 0.10060642419000054,\n",
       " 'ftu': 0.14}"
      ]
     },
     "execution_count": 12,
     "metadata": {},
     "output_type": "execute_result"
    }
   ],
   "source": [
    "eval_model(synth_data, dataset_test)"
   ]
  },
  {
   "cell_type": "markdown",
   "metadata": {},
   "source": [
    "### FairGAN"
   ]
  },
  {
   "cell_type": "code",
   "execution_count": 13,
   "metadata": {},
   "outputs": [
    {
     "name": "stdout",
     "output_type": "stream",
     "text": [
      "WARNING:tensorflow:From /Users/*****/Projects/UvA/UvA_FACT2022/env/lib/python3.8/site-packages/tensorflow/python/util/dispatch.py:201: calling dropout (from tensorflow.python.ops.nn_ops) with keep_prob is deprecated and will be removed in a future version.\n",
      "Instructions for updating:\n",
      "Please use `rate` instead of `keep_prob`. Rate should be set to `rate = 1 - keep_prob`.\n",
      "cache/adult.npy\n"
     ]
    },
    {
     "name": "stderr",
     "output_type": "stream",
     "text": [
      "2022-02-04 17:11:43.219249: I tensorflow/compiler/mlir/mlir_graph_optimization_pass.cc:196] None of the MLIR optimization passes are enabled (registered 0 passes)\n"
     ]
    },
    {
     "name": "stdout",
     "output_type": "stream",
     "text": [
      "Pretrain_Epoch:0, trainLoss:0.018377, validLoss:0.007400, validReverseLoss:0.000000\n",
      "Pretrain_Epoch:1, trainLoss:0.007770, validLoss:0.007489, validReverseLoss:0.000000\n",
      "Pretrain_Epoch:2, trainLoss:0.007857, validLoss:0.007542, validReverseLoss:0.000000\n",
      "Pretrain_Epoch:3, trainLoss:0.007895, validLoss:0.007547, validReverseLoss:0.000000\n",
      "Pretrain_Epoch:4, trainLoss:0.007891, validLoss:0.006571, validReverseLoss:0.000000\n",
      "Pretrain_Epoch:5, trainLoss:0.002940, validLoss:0.002490, validReverseLoss:0.000000\n",
      "Pretrain_Epoch:6, trainLoss:0.002588, validLoss:0.002484, validReverseLoss:0.000000\n",
      "Pretrain_Epoch:7, trainLoss:0.002579, validLoss:0.002462, validReverseLoss:0.000000\n",
      "Pretrain_Epoch:8, trainLoss:0.002581, validLoss:0.002461, validReverseLoss:0.000000\n",
      "Pretrain_Epoch:9, trainLoss:0.002567, validLoss:0.002443, validReverseLoss:0.000000\n",
      "Pretrain_Epoch:10, trainLoss:0.002573, validLoss:0.002476, validReverseLoss:0.000000\n",
      "Pretrain_Epoch:11, trainLoss:0.002570, validLoss:0.002426, validReverseLoss:0.000000\n",
      "Pretrain_Epoch:12, trainLoss:0.002569, validLoss:0.002483, validReverseLoss:0.000000\n",
      "Pretrain_Epoch:13, trainLoss:0.002560, validLoss:0.002377, validReverseLoss:0.000000\n",
      "Pretrain_Epoch:14, trainLoss:0.002559, validLoss:0.002425, validReverseLoss:0.000000\n",
      "Pretrain_Epoch:15, trainLoss:0.002530, validLoss:0.002426, validReverseLoss:0.000000\n",
      "Pretrain_Epoch:16, trainLoss:0.002519, validLoss:0.002468, validReverseLoss:0.000000\n",
      "Pretrain_Epoch:17, trainLoss:0.002530, validLoss:0.002368, validReverseLoss:0.000000\n",
      "Pretrain_Epoch:18, trainLoss:0.002519, validLoss:0.002354, validReverseLoss:0.000000\n",
      "Pretrain_Epoch:19, trainLoss:0.002518, validLoss:0.002378, validReverseLoss:0.000000\n",
      "Pretrain_Epoch:20, trainLoss:0.002515, validLoss:0.002413, validReverseLoss:0.000000\n",
      "Pretrain_Epoch:21, trainLoss:0.002518, validLoss:0.002381, validReverseLoss:0.000000\n",
      "Pretrain_Epoch:22, trainLoss:0.002514, validLoss:0.002395, validReverseLoss:0.000000\n",
      "Pretrain_Epoch:23, trainLoss:0.002518, validLoss:0.002355, validReverseLoss:0.000000\n",
      "Pretrain_Epoch:24, trainLoss:0.002512, validLoss:0.002376, validReverseLoss:0.000000\n",
      "Pretrain_Epoch:25, trainLoss:0.002508, validLoss:0.002399, validReverseLoss:0.000000\n",
      "Pretrain_Epoch:26, trainLoss:0.002509, validLoss:0.002375, validReverseLoss:0.000000\n",
      "Pretrain_Epoch:27, trainLoss:0.002510, validLoss:0.002362, validReverseLoss:0.000000\n",
      "Pretrain_Epoch:28, trainLoss:0.002503, validLoss:0.002424, validReverseLoss:0.000000\n",
      "Pretrain_Epoch:29, trainLoss:0.002510, validLoss:0.002372, validReverseLoss:0.000000\n",
      "Pretrain_Epoch:30, trainLoss:0.002491, validLoss:0.002377, validReverseLoss:0.000000\n",
      "Pretrain_Epoch:31, trainLoss:0.002478, validLoss:0.002377, validReverseLoss:0.000000\n",
      "Pretrain_Epoch:32, trainLoss:0.002478, validLoss:0.002295, validReverseLoss:0.000000\n",
      "Pretrain_Epoch:33, trainLoss:0.002462, validLoss:0.002328, validReverseLoss:0.000000\n",
      "Pretrain_Epoch:34, trainLoss:0.002460, validLoss:0.002335, validReverseLoss:0.000000\n",
      "Pretrain_Epoch:35, trainLoss:0.002391, validLoss:0.002229, validReverseLoss:0.000000\n",
      "Pretrain_Epoch:36, trainLoss:0.002308, validLoss:0.002176, validReverseLoss:0.000000\n",
      "Pretrain_Epoch:37, trainLoss:0.002276, validLoss:0.002142, validReverseLoss:0.000000\n",
      "Pretrain_Epoch:38, trainLoss:0.002283, validLoss:0.002074, validReverseLoss:0.000000\n",
      "Pretrain_Epoch:39, trainLoss:0.002275, validLoss:0.002157, validReverseLoss:0.000000\n",
      "Pretrain_Epoch:40, trainLoss:0.002270, validLoss:0.002135, validReverseLoss:0.000000\n",
      "Pretrain_Epoch:41, trainLoss:0.002265, validLoss:0.002140, validReverseLoss:0.000000\n",
      "Pretrain_Epoch:42, trainLoss:0.002273, validLoss:0.002175, validReverseLoss:0.000000\n",
      "Pretrain_Epoch:43, trainLoss:0.002271, validLoss:0.002114, validReverseLoss:0.000000\n",
      "Pretrain_Epoch:44, trainLoss:0.002269, validLoss:0.002204, validReverseLoss:0.000000\n",
      "Pretrain_Epoch:45, trainLoss:0.002263, validLoss:0.002157, validReverseLoss:0.000000\n",
      "Pretrain_Epoch:46, trainLoss:0.002267, validLoss:0.002175, validReverseLoss:0.000000\n",
      "Pretrain_Epoch:47, trainLoss:0.002270, validLoss:0.002125, validReverseLoss:0.000000\n",
      "Pretrain_Epoch:48, trainLoss:0.002250, validLoss:0.002216, validReverseLoss:0.000000\n",
      "Pretrain_Epoch:49, trainLoss:0.002275, validLoss:0.002140, validReverseLoss:0.000000\n",
      "Epoch:0, d_loss:0.357153, g_loss:3.251941, d accuracy:1.000000, d AUC:1.000000, g accuracy:1.000000, rdf 0.000000\n",
      "Epoch:1, d_loss:0.085009, g_loss:4.590782, d accuracy:0.998977, d AUC:1.000000, g accuracy:1.000000, rdf 0.000000\n",
      "Epoch:2, d_loss:0.918341, g_loss:2.717331, d accuracy:0.854886, d AUC:0.942447, g accuracy:0.748864, rdf 0.000000\n",
      "Epoch:3, d_loss:0.727511, g_loss:2.209599, d accuracy:0.810568, d AUC:0.905650, g accuracy:0.829545, rdf 0.000000\n",
      "Epoch:4, d_loss:0.803367, g_loss:2.215892, d accuracy:0.811705, d AUC:0.913673, g accuracy:0.732500, rdf 0.000000\n",
      "Epoch:5, d_loss:0.956857, g_loss:1.956211, d accuracy:0.790682, d AUC:0.896345, g accuracy:0.703409, rdf 0.000000\n",
      "Epoch:6, d_loss:1.016619, g_loss:1.816614, d accuracy:0.613636, d AUC:0.670148, g accuracy:0.563864, rdf 0.000000\n",
      "Epoch:7, d_loss:0.944658, g_loss:1.895438, d accuracy:0.801364, d AUC:0.893936, g accuracy:0.759773, rdf 0.000000\n",
      "Epoch:8, d_loss:0.945125, g_loss:1.866466, d accuracy:0.704545, d AUC:0.791189, g accuracy:0.646591, rdf 0.000000\n",
      "Epoch:9, d_loss:0.955225, g_loss:1.820898, d accuracy:0.745114, d AUC:0.833359, g accuracy:0.703409, rdf 0.000000\n",
      "INFO:tensorflow:cache/fairgan_unfair is not in all_model_checkpoint_paths. Manually adding it.\n",
      "INFO:tensorflow:cache/fairgan is not in all_model_checkpoint_paths. Manually adding it.\n",
      "cache/fairgan\n",
      "INFO:tensorflow:Restoring parameters from cache/fairgan\n",
      "burning in\n",
      "generating\n"
     ]
    },
    {
     "name": "stderr",
     "output_type": "stream",
     "text": [
      "/Users/*****/Projects/UvA/UvA_FACT2022/env/lib/python3.8/site-packages/sklearn/neural_network/_multilayer_perceptron.py:692: ConvergenceWarning: Stochastic Optimizer: Maximum iterations (200) reached and the optimization hasn't converged yet.\n",
      "  warnings.warn(\n",
      "/Users/*****/Projects/UvA/UvA_FACT2022/env/lib/python3.8/site-packages/sklearn/base.py:450: UserWarning: X does not have valid feature names, but MLPClassifier was fitted with feature names\n",
      "  warnings.warn(\n"
     ]
    },
    {
     "data": {
      "text/html": [
       "<div>\n",
       "<style scoped>\n",
       "    .dataframe tbody tr th:only-of-type {\n",
       "        vertical-align: middle;\n",
       "    }\n",
       "\n",
       "    .dataframe tbody tr th {\n",
       "        vertical-align: top;\n",
       "    }\n",
       "\n",
       "    .dataframe thead th {\n",
       "        text-align: right;\n",
       "    }\n",
       "</style>\n",
       "<table border=\"1\" class=\"dataframe\">\n",
       "  <thead>\n",
       "    <tr style=\"text-align: right;\">\n",
       "      <th></th>\n",
       "      <th>age</th>\n",
       "      <th>workclass</th>\n",
       "      <th>fnlwgt</th>\n",
       "      <th>education</th>\n",
       "      <th>education-num</th>\n",
       "      <th>marital-status</th>\n",
       "      <th>occupation</th>\n",
       "      <th>relationship</th>\n",
       "      <th>race</th>\n",
       "      <th>sex</th>\n",
       "      <th>capital-gain</th>\n",
       "      <th>capital-loss</th>\n",
       "      <th>hours-per-week</th>\n",
       "      <th>native-country</th>\n",
       "      <th>income</th>\n",
       "    </tr>\n",
       "  </thead>\n",
       "  <tbody>\n",
       "    <tr>\n",
       "      <th>0</th>\n",
       "      <td>0.000000</td>\n",
       "      <td>0.313098</td>\n",
       "      <td>0.000000</td>\n",
       "      <td>0.447853</td>\n",
       "      <td>0.307014</td>\n",
       "      <td>0.633629</td>\n",
       "      <td>0.370685</td>\n",
       "      <td>0.0</td>\n",
       "      <td>0.414991</td>\n",
       "      <td>0.0</td>\n",
       "      <td>0.000000</td>\n",
       "      <td>0.369372</td>\n",
       "      <td>0.526167</td>\n",
       "      <td>1.048100</td>\n",
       "      <td>1.0</td>\n",
       "    </tr>\n",
       "    <tr>\n",
       "      <th>1</th>\n",
       "      <td>0.162797</td>\n",
       "      <td>0.153582</td>\n",
       "      <td>0.032848</td>\n",
       "      <td>0.780304</td>\n",
       "      <td>0.193229</td>\n",
       "      <td>0.461950</td>\n",
       "      <td>0.398713</td>\n",
       "      <td>0.0</td>\n",
       "      <td>0.813397</td>\n",
       "      <td>0.0</td>\n",
       "      <td>0.000000</td>\n",
       "      <td>0.385241</td>\n",
       "      <td>0.000000</td>\n",
       "      <td>1.102639</td>\n",
       "      <td>1.0</td>\n",
       "    </tr>\n",
       "    <tr>\n",
       "      <th>2</th>\n",
       "      <td>0.000000</td>\n",
       "      <td>0.208462</td>\n",
       "      <td>0.239274</td>\n",
       "      <td>0.839121</td>\n",
       "      <td>0.000000</td>\n",
       "      <td>0.545892</td>\n",
       "      <td>0.406260</td>\n",
       "      <td>0.0</td>\n",
       "      <td>1.180958</td>\n",
       "      <td>0.0</td>\n",
       "      <td>0.000000</td>\n",
       "      <td>0.410443</td>\n",
       "      <td>0.000000</td>\n",
       "      <td>0.000000</td>\n",
       "      <td>1.0</td>\n",
       "    </tr>\n",
       "    <tr>\n",
       "      <th>3</th>\n",
       "      <td>0.149550</td>\n",
       "      <td>0.366827</td>\n",
       "      <td>0.022638</td>\n",
       "      <td>0.792689</td>\n",
       "      <td>0.087440</td>\n",
       "      <td>0.244400</td>\n",
       "      <td>0.490716</td>\n",
       "      <td>0.0</td>\n",
       "      <td>0.860048</td>\n",
       "      <td>0.0</td>\n",
       "      <td>0.000000</td>\n",
       "      <td>0.332419</td>\n",
       "      <td>0.000000</td>\n",
       "      <td>0.363599</td>\n",
       "      <td>1.0</td>\n",
       "    </tr>\n",
       "    <tr>\n",
       "      <th>4</th>\n",
       "      <td>0.063530</td>\n",
       "      <td>0.319478</td>\n",
       "      <td>0.718697</td>\n",
       "      <td>0.598897</td>\n",
       "      <td>0.166194</td>\n",
       "      <td>0.573069</td>\n",
       "      <td>0.628330</td>\n",
       "      <td>0.0</td>\n",
       "      <td>1.016383</td>\n",
       "      <td>0.0</td>\n",
       "      <td>0.070529</td>\n",
       "      <td>0.514503</td>\n",
       "      <td>0.000000</td>\n",
       "      <td>0.772208</td>\n",
       "      <td>1.0</td>\n",
       "    </tr>\n",
       "  </tbody>\n",
       "</table>\n",
       "</div>"
      ],
      "text/plain": [
       "        age  workclass    fnlwgt  education  education-num  marital-status  \\\n",
       "0  0.000000   0.313098  0.000000   0.447853       0.307014        0.633629   \n",
       "1  0.162797   0.153582  0.032848   0.780304       0.193229        0.461950   \n",
       "2  0.000000   0.208462  0.239274   0.839121       0.000000        0.545892   \n",
       "3  0.149550   0.366827  0.022638   0.792689       0.087440        0.244400   \n",
       "4  0.063530   0.319478  0.718697   0.598897       0.166194        0.573069   \n",
       "\n",
       "   occupation  relationship      race  sex  capital-gain  capital-loss  \\\n",
       "0    0.370685           0.0  0.414991  0.0      0.000000      0.369372   \n",
       "1    0.398713           0.0  0.813397  0.0      0.000000      0.385241   \n",
       "2    0.406260           0.0  1.180958  0.0      0.000000      0.410443   \n",
       "3    0.490716           0.0  0.860048  0.0      0.000000      0.332419   \n",
       "4    0.628330           0.0  1.016383  0.0      0.070529      0.514503   \n",
       "\n",
       "   hours-per-week  native-country  income  \n",
       "0        0.526167        1.048100     1.0  \n",
       "1        0.000000        1.102639     1.0  \n",
       "2        0.000000        0.000000     1.0  \n",
       "3        0.000000        0.363599     1.0  \n",
       "4        0.000000        0.772208     1.0  "
      ]
     },
     "execution_count": 13,
     "metadata": {},
     "output_type": "execute_result"
    }
   ],
   "source": [
    "synth_data = train_fairgan(dataset_train)\n",
    "synth_data.head()"
   ]
  },
  {
   "cell_type": "code",
   "execution_count": 14,
   "metadata": {},
   "outputs": [
    {
     "data": {
      "text/plain": [
       "{'precision': 0.773604590505999,\n",
       " 'recall': 0.9860372340425532,\n",
       " 'auroc': 0.5555186170212766,\n",
       " 'dp': 0.01400030693248877,\n",
       " 'ftu': 0.030999999999999917}"
      ]
     },
     "execution_count": 14,
     "metadata": {},
     "output_type": "execute_result"
    }
   ],
   "source": [
    "eval_model(synth_data, dataset_test)"
   ]
  },
  {
   "cell_type": "markdown",
   "metadata": {},
   "source": [
    "### DECAF"
   ]
  },
  {
   "cell_type": "markdown",
   "metadata": {},
   "source": [
    "#### DECAF-ND"
   ]
  },
  {
   "cell_type": "code",
   "execution_count": 13,
   "metadata": {},
   "outputs": [
    {
     "name": "stdout",
     "output_type": "stream",
     "text": [
      "Initialised adjacency matrix as parsed:\n",
      " Parameter containing:\n",
      "tensor([[0., 1., 0., 1., 0., 1., 1., 1., 0., 0., 0., 0., 1., 0., 1.],\n",
      "        [0., 0., 0., 0., 0., 0., 0., 0., 0., 0., 0., 0., 0., 0., 1.],\n",
      "        [0., 0., 0., 0., 0., 0., 0., 0., 0., 0., 0., 0., 0., 0., 0.],\n",
      "        [0., 1., 0., 0., 0., 0., 1., 1., 0., 0., 0., 0., 1., 0., 1.],\n",
      "        [0., 0., 0., 0., 0., 0., 0., 0., 0., 0., 0., 0., 0., 0., 0.],\n",
      "        [0., 1., 0., 1., 0., 0., 1., 1., 0., 0., 0., 0., 1., 0., 1.],\n",
      "        [0., 0., 0., 0., 0., 0., 0., 0., 0., 0., 0., 0., 0., 0., 1.],\n",
      "        [0., 0., 0., 0., 0., 0., 0., 0., 0., 0., 0., 0., 0., 0., 1.],\n",
      "        [0., 0., 0., 1., 0., 1., 1., 0., 0., 0., 0., 0., 1., 0., 1.],\n",
      "        [0., 1., 0., 1., 0., 1., 1., 1., 0., 0., 0., 0., 0., 0., 1.],\n",
      "        [0., 0., 0., 0., 0., 0., 0., 0., 0., 0., 0., 0., 0., 0., 0.],\n",
      "        [0., 0., 0., 0., 0., 0., 0., 0., 0., 0., 0., 0., 0., 0., 0.],\n",
      "        [0., 0., 0., 0., 0., 0., 0., 0., 0., 0., 0., 0., 0., 0., 1.],\n",
      "        [0., 1., 0., 1., 0., 1., 0., 1., 0., 0., 0., 0., 1., 0., 1.],\n",
      "        [0., 0., 0., 0., 0., 0., 0., 0., 0., 0., 0., 0., 0., 0., 0.]])\n"
     ]
    }
   ],
   "source": [
    "_, synth_data= train_decaf(dataset_train, dag_seed, dataset_test, generate_test=True)\n",
    "synth_data.head()\n",
    "\n",
    "# save synthetic sample\n",
    "dataset_test.to_csv('x_test_adult.csv')\n",
    "synth_data.to_csv('x_synth_adult.csv')\n"
   ]
  },
  {
   "cell_type": "code",
   "execution_count": 21,
   "metadata": {},
   "outputs": [
    {
     "data": {
      "text/plain": [
       "{'precision': 0.8819599109131403,\n",
       " 'recall': 0.7898936170212766,\n",
       " 'auroc': 0.7346645504461221,\n",
       " 'dp': 0.32534373,\n",
       " 'ftu': 0.099999964}"
      ]
     },
     "execution_count": 21,
     "metadata": {},
     "output_type": "execute_result"
    }
   ],
   "source": [
    "eval_model(synth_data, dataset_test)"
   ]
  },
  {
   "cell_type": "code",
   "execution_count": 10,
   "metadata": {},
   "outputs": [],
   "source": [
    "# load synthetic and test\n",
    "X_test = pd.read_csv('x_test_adult.csv', index_col=0)\n",
    "X_synth_test = pd.read_csv('x_synth_adult.csv', index_col=0)"
   ]
  },
  {
   "cell_type": "code",
   "execution_count": 11,
   "metadata": {},
   "outputs": [
    {
     "name": "stdout",
     "output_type": "stream",
     "text": [
      "Quality: 0.572\n",
      "Detection: 0.698\n",
      "Performance on real: 0.718, on synth: 0.640, diff: 0.078\n"
     ]
    }
   ],
   "source": [
    "label = \"income\"\n",
    "\n",
    "X_synth_loader = GenericDataLoader(\n",
    "    X_synth_test,\n",
    "    target_column=label,\n",
    ")\n",
    "X_test_loader = GenericDataLoader(\n",
    "    X_test,\n",
    "    target_column=label,\n",
    ")\n",
    "\n",
    "res = eval_goggle(X_synth_loader, X_test_loader)\n",
    "\n",
    "print(f\"Quality: {res[0]:.3f}\")\n",
    "print(f\"Detection: {res[2]:.3f}\")\n",
    "print(\n",
    "f\"Performance on real: {res[1][0]:.3f}, on synth: {res[1][1]:.3f}, diff: {(res[1][0] - res[1][1]):.3f}\")"
   ]
  },
  {
   "cell_type": "markdown",
   "metadata": {},
   "source": [
    "#### DECAF-FTU"
   ]
  },
  {
   "cell_type": "code",
   "execution_count": 12,
   "metadata": {},
   "outputs": [
    {
     "name": "stdout",
     "output_type": "stream",
     "text": [
      "Initialised adjacency matrix as parsed:\n",
      " Parameter containing:\n",
      "tensor([[0., 1., 0., 1., 0., 1., 1., 1., 0., 0., 0., 0., 1., 0., 1.],\n",
      "        [0., 0., 0., 0., 0., 0., 0., 0., 0., 0., 0., 0., 0., 0., 1.],\n",
      "        [0., 0., 0., 0., 0., 0., 0., 0., 0., 0., 0., 0., 0., 0., 0.],\n",
      "        [0., 1., 0., 0., 0., 0., 1., 1., 0., 0., 0., 0., 1., 0., 1.],\n",
      "        [0., 0., 0., 0., 0., 0., 0., 0., 0., 0., 0., 0., 0., 0., 0.],\n",
      "        [0., 1., 0., 1., 0., 0., 1., 1., 0., 0., 0., 0., 1., 0., 1.],\n",
      "        [0., 0., 0., 0., 0., 0., 0., 0., 0., 0., 0., 0., 0., 0., 1.],\n",
      "        [0., 0., 0., 0., 0., 0., 0., 0., 0., 0., 0., 0., 0., 0., 1.],\n",
      "        [0., 0., 0., 1., 0., 1., 1., 0., 0., 0., 0., 0., 1., 0., 1.],\n",
      "        [0., 1., 0., 1., 0., 1., 1., 1., 0., 0., 0., 0., 0., 0., 1.],\n",
      "        [0., 0., 0., 0., 0., 0., 0., 0., 0., 0., 0., 0., 0., 0., 0.],\n",
      "        [0., 0., 0., 0., 0., 0., 0., 0., 0., 0., 0., 0., 0., 0., 0.],\n",
      "        [0., 0., 0., 0., 0., 0., 0., 0., 0., 0., 0., 0., 0., 0., 1.],\n",
      "        [0., 1., 0., 1., 0., 1., 0., 1., 0., 0., 0., 0., 1., 0., 1.],\n",
      "        [0., 0., 0., 0., 0., 0., 0., 0., 0., 0., 0., 0., 0., 0., 0.]])\n"
     ]
    },
    {
     "data": {
      "text/html": [
       "<div>\n",
       "<style scoped>\n",
       "    .dataframe tbody tr th:only-of-type {\n",
       "        vertical-align: middle;\n",
       "    }\n",
       "\n",
       "    .dataframe tbody tr th {\n",
       "        vertical-align: top;\n",
       "    }\n",
       "\n",
       "    .dataframe thead th {\n",
       "        text-align: right;\n",
       "    }\n",
       "</style>\n",
       "<table border=\"1\" class=\"dataframe\">\n",
       "  <thead>\n",
       "    <tr style=\"text-align: right;\">\n",
       "      <th></th>\n",
       "      <th>age</th>\n",
       "      <th>workclass</th>\n",
       "      <th>fnlwgt</th>\n",
       "      <th>education</th>\n",
       "      <th>education-num</th>\n",
       "      <th>marital-status</th>\n",
       "      <th>occupation</th>\n",
       "      <th>relationship</th>\n",
       "      <th>race</th>\n",
       "      <th>sex</th>\n",
       "      <th>capital-gain</th>\n",
       "      <th>capital-loss</th>\n",
       "      <th>hours-per-week</th>\n",
       "      <th>native-country</th>\n",
       "      <th>income</th>\n",
       "    </tr>\n",
       "  </thead>\n",
       "  <tbody>\n",
       "    <tr>\n",
       "      <th>11086</th>\n",
       "      <td>0.495013</td>\n",
       "      <td>1.072265e-07</td>\n",
       "      <td>0.035992</td>\n",
       "      <td>0.269277</td>\n",
       "      <td>0.502386</td>\n",
       "      <td>0.001513</td>\n",
       "      <td>0.066416</td>\n",
       "      <td>0.366714</td>\n",
       "      <td>1.881836e-30</td>\n",
       "      <td>1.0</td>\n",
       "      <td>0.000006</td>\n",
       "      <td>1.258836e-13</td>\n",
       "      <td>0.566528</td>\n",
       "      <td>1.836281e-06</td>\n",
       "      <td>0.0</td>\n",
       "    </tr>\n",
       "    <tr>\n",
       "      <th>13040</th>\n",
       "      <td>0.494979</td>\n",
       "      <td>9.606715e-06</td>\n",
       "      <td>0.067790</td>\n",
       "      <td>0.170352</td>\n",
       "      <td>0.508076</td>\n",
       "      <td>0.426382</td>\n",
       "      <td>0.460906</td>\n",
       "      <td>0.980978</td>\n",
       "      <td>9.967096e-01</td>\n",
       "      <td>0.0</td>\n",
       "      <td>0.010387</td>\n",
       "      <td>4.444226e-02</td>\n",
       "      <td>0.338800</td>\n",
       "      <td>2.679395e-05</td>\n",
       "      <td>0.0</td>\n",
       "    </tr>\n",
       "    <tr>\n",
       "      <th>12915</th>\n",
       "      <td>0.148479</td>\n",
       "      <td>3.297513e-07</td>\n",
       "      <td>0.031570</td>\n",
       "      <td>0.274266</td>\n",
       "      <td>0.811098</td>\n",
       "      <td>0.406156</td>\n",
       "      <td>0.095585</td>\n",
       "      <td>0.312192</td>\n",
       "      <td>9.700151e-01</td>\n",
       "      <td>1.0</td>\n",
       "      <td>0.000444</td>\n",
       "      <td>7.830165e-11</td>\n",
       "      <td>0.468205</td>\n",
       "      <td>1.945665e-11</td>\n",
       "      <td>1.0</td>\n",
       "    </tr>\n",
       "    <tr>\n",
       "      <th>8828</th>\n",
       "      <td>0.132333</td>\n",
       "      <td>5.430275e-01</td>\n",
       "      <td>0.041796</td>\n",
       "      <td>0.602310</td>\n",
       "      <td>0.509497</td>\n",
       "      <td>0.387588</td>\n",
       "      <td>0.148159</td>\n",
       "      <td>0.828860</td>\n",
       "      <td>4.584910e-29</td>\n",
       "      <td>1.0</td>\n",
       "      <td>0.000146</td>\n",
       "      <td>3.218246e-07</td>\n",
       "      <td>0.306507</td>\n",
       "      <td>2.295997e-03</td>\n",
       "      <td>1.0</td>\n",
       "    </tr>\n",
       "    <tr>\n",
       "      <th>12594</th>\n",
       "      <td>0.170732</td>\n",
       "      <td>8.479881e-03</td>\n",
       "      <td>0.157833</td>\n",
       "      <td>0.208199</td>\n",
       "      <td>0.650439</td>\n",
       "      <td>0.162866</td>\n",
       "      <td>0.227585</td>\n",
       "      <td>0.257204</td>\n",
       "      <td>1.044550e-05</td>\n",
       "      <td>1.0</td>\n",
       "      <td>0.000869</td>\n",
       "      <td>6.504069e-13</td>\n",
       "      <td>0.297163</td>\n",
       "      <td>2.777788e-17</td>\n",
       "      <td>1.0</td>\n",
       "    </tr>\n",
       "  </tbody>\n",
       "</table>\n",
       "</div>"
      ],
      "text/plain": [
       "            age     workclass    fnlwgt  education  education-num  \\\n",
       "11086  0.495013  1.072265e-07  0.035992   0.269277       0.502386   \n",
       "13040  0.494979  9.606715e-06  0.067790   0.170352       0.508076   \n",
       "12915  0.148479  3.297513e-07  0.031570   0.274266       0.811098   \n",
       "8828   0.132333  5.430275e-01  0.041796   0.602310       0.509497   \n",
       "12594  0.170732  8.479881e-03  0.157833   0.208199       0.650439   \n",
       "\n",
       "       marital-status  occupation  relationship          race  sex  \\\n",
       "11086        0.001513    0.066416      0.366714  1.881836e-30  1.0   \n",
       "13040        0.426382    0.460906      0.980978  9.967096e-01  0.0   \n",
       "12915        0.406156    0.095585      0.312192  9.700151e-01  1.0   \n",
       "8828         0.387588    0.148159      0.828860  4.584910e-29  1.0   \n",
       "12594        0.162866    0.227585      0.257204  1.044550e-05  1.0   \n",
       "\n",
       "       capital-gain  capital-loss  hours-per-week  native-country  income  \n",
       "11086      0.000006  1.258836e-13        0.566528    1.836281e-06     0.0  \n",
       "13040      0.010387  4.444226e-02        0.338800    2.679395e-05     0.0  \n",
       "12915      0.000444  7.830165e-11        0.468205    1.945665e-11     1.0  \n",
       "8828       0.000146  3.218246e-07        0.306507    2.295997e-03     1.0  \n",
       "12594      0.000869  6.504069e-13        0.297163    2.777788e-17     1.0  "
      ]
     },
     "execution_count": 12,
     "metadata": {},
     "output_type": "execute_result"
    }
   ],
   "source": [
    "_, synth_data = train_decaf(dataset_train, dag_seed, dataset_test, biased_edges=bias_dict_ftu, generate_test=True)\n",
    "synth_data.head()"
   ]
  },
  {
   "cell_type": "code",
   "execution_count": 13,
   "metadata": {},
   "outputs": [],
   "source": [
    "# save synthetic sample\n",
    "dataset_test.to_csv('x_test_adult_ftu.csv')\n",
    "synth_data.to_csv('x_synth_adult_ftu.csv')"
   ]
  },
  {
   "cell_type": "code",
   "execution_count": 23,
   "metadata": {},
   "outputs": [
    {
     "data": {
      "text/plain": [
       "{'precision': 0.8622412562455389,\n",
       " 'recall': 0.8031914893617021,\n",
       " 'auroc': 0.7070392930679478,\n",
       " 'dp': 0.2167862,\n",
       " 'ftu': 0.0015000105}"
      ]
     },
     "execution_count": 23,
     "metadata": {},
     "output_type": "execute_result"
    }
   ],
   "source": [
    "eval_model(synth_data, dataset_test)"
   ]
  },
  {
   "cell_type": "code",
   "execution_count": 12,
   "metadata": {},
   "outputs": [],
   "source": [
    "# load synthetic and test\n",
    "X_test = pd.read_csv('x_test_adult_ftu.csv', index_col=0)\n",
    "X_synth_test = pd.read_csv('x_synth_adult_ftu.csv', index_col=0)"
   ]
  },
  {
   "cell_type": "code",
   "execution_count": 13,
   "metadata": {},
   "outputs": [
    {
     "name": "stdout",
     "output_type": "stream",
     "text": [
      "Quality: 0.567\n",
      "Detection: 0.698\n",
      "Performance on real: 0.677, on synth: 0.671, diff: 0.006\n"
     ]
    }
   ],
   "source": [
    "label = \"income\"\n",
    "\n",
    "X_synth_loader = GenericDataLoader(\n",
    "    X_synth_test,\n",
    "    target_column=label,\n",
    ")\n",
    "X_test_loader = GenericDataLoader(\n",
    "    X_test,\n",
    "    target_column=label,\n",
    ")\n",
    "\n",
    "res = eval_goggle(X_synth_loader, X_test_loader)\n",
    "\n",
    "print(f\"Quality: {res[0]:.3f}\")\n",
    "print(f\"Detection: {res[2]:.3f}\")\n",
    "print(\n",
    "f\"Performance on real: {res[1][0]:.3f}, on synth: {res[1][1]:.3f}, diff: {(res[1][0] - res[1][1]):.3f}\")"
   ]
  },
  {
   "cell_type": "markdown",
   "metadata": {},
   "source": [
    "#### DECAF-CF"
   ]
  },
  {
   "cell_type": "code",
   "execution_count": 14,
   "metadata": {},
   "outputs": [
    {
     "name": "stdout",
     "output_type": "stream",
     "text": [
      "Initialised adjacency matrix as parsed:\n",
      " Parameter containing:\n",
      "tensor([[0., 1., 0., 1., 0., 1., 1., 1., 0., 0., 0., 0., 1., 0., 1.],\n",
      "        [0., 0., 0., 0., 0., 0., 0., 0., 0., 0., 0., 0., 0., 0., 1.],\n",
      "        [0., 0., 0., 0., 0., 0., 0., 0., 0., 0., 0., 0., 0., 0., 0.],\n",
      "        [0., 1., 0., 0., 0., 0., 1., 1., 0., 0., 0., 0., 1., 0., 1.],\n",
      "        [0., 0., 0., 0., 0., 0., 0., 0., 0., 0., 0., 0., 0., 0., 0.],\n",
      "        [0., 1., 0., 1., 0., 0., 1., 1., 0., 0., 0., 0., 1., 0., 1.],\n",
      "        [0., 0., 0., 0., 0., 0., 0., 0., 0., 0., 0., 0., 0., 0., 1.],\n",
      "        [0., 0., 0., 0., 0., 0., 0., 0., 0., 0., 0., 0., 0., 0., 1.],\n",
      "        [0., 0., 0., 1., 0., 1., 1., 0., 0., 0., 0., 0., 1., 0., 1.],\n",
      "        [0., 1., 0., 1., 0., 1., 1., 1., 0., 0., 0., 0., 0., 0., 1.],\n",
      "        [0., 0., 0., 0., 0., 0., 0., 0., 0., 0., 0., 0., 0., 0., 0.],\n",
      "        [0., 0., 0., 0., 0., 0., 0., 0., 0., 0., 0., 0., 0., 0., 0.],\n",
      "        [0., 0., 0., 0., 0., 0., 0., 0., 0., 0., 0., 0., 0., 0., 1.],\n",
      "        [0., 1., 0., 1., 0., 1., 0., 1., 0., 0., 0., 0., 1., 0., 1.],\n",
      "        [0., 0., 0., 0., 0., 0., 0., 0., 0., 0., 0., 0., 0., 0., 0.]])\n"
     ]
    },
    {
     "data": {
      "text/html": [
       "<div>\n",
       "<style scoped>\n",
       "    .dataframe tbody tr th:only-of-type {\n",
       "        vertical-align: middle;\n",
       "    }\n",
       "\n",
       "    .dataframe tbody tr th {\n",
       "        vertical-align: top;\n",
       "    }\n",
       "\n",
       "    .dataframe thead th {\n",
       "        text-align: right;\n",
       "    }\n",
       "</style>\n",
       "<table border=\"1\" class=\"dataframe\">\n",
       "  <thead>\n",
       "    <tr style=\"text-align: right;\">\n",
       "      <th></th>\n",
       "      <th>age</th>\n",
       "      <th>workclass</th>\n",
       "      <th>fnlwgt</th>\n",
       "      <th>education</th>\n",
       "      <th>education-num</th>\n",
       "      <th>marital-status</th>\n",
       "      <th>occupation</th>\n",
       "      <th>relationship</th>\n",
       "      <th>race</th>\n",
       "      <th>sex</th>\n",
       "      <th>capital-gain</th>\n",
       "      <th>capital-loss</th>\n",
       "      <th>hours-per-week</th>\n",
       "      <th>native-country</th>\n",
       "      <th>income</th>\n",
       "    </tr>\n",
       "  </thead>\n",
       "  <tbody>\n",
       "    <tr>\n",
       "      <th>11086</th>\n",
       "      <td>0.494885</td>\n",
       "      <td>1.496933e-05</td>\n",
       "      <td>0.037080</td>\n",
       "      <td>0.068646</td>\n",
       "      <td>0.509228</td>\n",
       "      <td>0.000149</td>\n",
       "      <td>0.419497</td>\n",
       "      <td>0.393270</td>\n",
       "      <td>3.492381e-15</td>\n",
       "      <td>1.0</td>\n",
       "      <td>1.011338e-07</td>\n",
       "      <td>5.851650e-15</td>\n",
       "      <td>0.566989</td>\n",
       "      <td>2.633086e-19</td>\n",
       "      <td>0.0</td>\n",
       "    </tr>\n",
       "    <tr>\n",
       "      <th>13040</th>\n",
       "      <td>0.494936</td>\n",
       "      <td>4.529162e-05</td>\n",
       "      <td>0.035780</td>\n",
       "      <td>0.131511</td>\n",
       "      <td>0.692952</td>\n",
       "      <td>0.309115</td>\n",
       "      <td>0.464737</td>\n",
       "      <td>0.440604</td>\n",
       "      <td>2.211955e-04</td>\n",
       "      <td>1.0</td>\n",
       "      <td>7.582552e-07</td>\n",
       "      <td>1.849083e-06</td>\n",
       "      <td>0.260473</td>\n",
       "      <td>1.530963e-12</td>\n",
       "      <td>1.0</td>\n",
       "    </tr>\n",
       "    <tr>\n",
       "      <th>12915</th>\n",
       "      <td>0.070165</td>\n",
       "      <td>1.562485e-03</td>\n",
       "      <td>0.230961</td>\n",
       "      <td>0.169594</td>\n",
       "      <td>0.580689</td>\n",
       "      <td>0.194124</td>\n",
       "      <td>0.039334</td>\n",
       "      <td>0.278739</td>\n",
       "      <td>5.385244e-37</td>\n",
       "      <td>1.0</td>\n",
       "      <td>1.844534e-05</td>\n",
       "      <td>1.888660e-12</td>\n",
       "      <td>0.233035</td>\n",
       "      <td>4.324961e-05</td>\n",
       "      <td>1.0</td>\n",
       "    </tr>\n",
       "    <tr>\n",
       "      <th>8828</th>\n",
       "      <td>0.494861</td>\n",
       "      <td>5.945465e-07</td>\n",
       "      <td>0.028139</td>\n",
       "      <td>0.095030</td>\n",
       "      <td>0.499025</td>\n",
       "      <td>0.003266</td>\n",
       "      <td>0.117451</td>\n",
       "      <td>0.449909</td>\n",
       "      <td>5.955176e-28</td>\n",
       "      <td>1.0</td>\n",
       "      <td>1.204840e-03</td>\n",
       "      <td>3.345086e-16</td>\n",
       "      <td>0.572020</td>\n",
       "      <td>1.913983e-20</td>\n",
       "      <td>0.0</td>\n",
       "    </tr>\n",
       "    <tr>\n",
       "      <th>12594</th>\n",
       "      <td>0.494926</td>\n",
       "      <td>7.365664e-01</td>\n",
       "      <td>0.135249</td>\n",
       "      <td>0.711014</td>\n",
       "      <td>0.771396</td>\n",
       "      <td>0.000006</td>\n",
       "      <td>0.343281</td>\n",
       "      <td>0.350653</td>\n",
       "      <td>8.121139e-31</td>\n",
       "      <td>1.0</td>\n",
       "      <td>2.099754e-07</td>\n",
       "      <td>2.198741e-06</td>\n",
       "      <td>0.420037</td>\n",
       "      <td>5.059750e-11</td>\n",
       "      <td>1.0</td>\n",
       "    </tr>\n",
       "  </tbody>\n",
       "</table>\n",
       "</div>"
      ],
      "text/plain": [
       "            age     workclass    fnlwgt  education  education-num  \\\n",
       "11086  0.494885  1.496933e-05  0.037080   0.068646       0.509228   \n",
       "13040  0.494936  4.529162e-05  0.035780   0.131511       0.692952   \n",
       "12915  0.070165  1.562485e-03  0.230961   0.169594       0.580689   \n",
       "8828   0.494861  5.945465e-07  0.028139   0.095030       0.499025   \n",
       "12594  0.494926  7.365664e-01  0.135249   0.711014       0.771396   \n",
       "\n",
       "       marital-status  occupation  relationship          race  sex  \\\n",
       "11086        0.000149    0.419497      0.393270  3.492381e-15  1.0   \n",
       "13040        0.309115    0.464737      0.440604  2.211955e-04  1.0   \n",
       "12915        0.194124    0.039334      0.278739  5.385244e-37  1.0   \n",
       "8828         0.003266    0.117451      0.449909  5.955176e-28  1.0   \n",
       "12594        0.000006    0.343281      0.350653  8.121139e-31  1.0   \n",
       "\n",
       "       capital-gain  capital-loss  hours-per-week  native-country  income  \n",
       "11086  1.011338e-07  5.851650e-15        0.566989    2.633086e-19     0.0  \n",
       "13040  7.582552e-07  1.849083e-06        0.260473    1.530963e-12     1.0  \n",
       "12915  1.844534e-05  1.888660e-12        0.233035    4.324961e-05     1.0  \n",
       "8828   1.204840e-03  3.345086e-16        0.572020    1.913983e-20     0.0  \n",
       "12594  2.099754e-07  2.198741e-06        0.420037    5.059750e-11     1.0  "
      ]
     },
     "execution_count": 14,
     "metadata": {},
     "output_type": "execute_result"
    }
   ],
   "source": [
    "_, synth_data = train_decaf(dataset_train, dag_seed, dataset_test, biased_edges=bias_dict_cf, generate_test=True)\n",
    "synth_data.head()"
   ]
  },
  {
   "cell_type": "code",
   "execution_count": 15,
   "metadata": {},
   "outputs": [],
   "source": [
    "# save synthetic sample\n",
    "dataset_test.to_csv('x_test_adult_cf.csv')\n",
    "synth_data.to_csv('x_synth_adult_cf.csv')"
   ]
  },
  {
   "cell_type": "code",
   "execution_count": 20,
   "metadata": {},
   "outputs": [
    {
     "data": {
      "text/plain": [
       "{'precision': 0.7692307692307693,\n",
       " 'recall': 0.9441489361702128,\n",
       " 'auroc': 0.5426389842141386,\n",
       " 'dp': 0.0018555522,\n",
       " 'ftu': 0.07699996}"
      ]
     },
     "execution_count": 20,
     "metadata": {},
     "output_type": "execute_result"
    }
   ],
   "source": [
    "eval_model(synth_data, dataset_test)"
   ]
  },
  {
   "cell_type": "code",
   "execution_count": 14,
   "metadata": {},
   "outputs": [],
   "source": [
    "# load synthetic and test\n",
    "X_test = pd.read_csv('x_test_adult_cf.csv', index_col=0)\n",
    "X_synth_test = pd.read_csv('x_synth_adult_cf.csv', index_col=0)"
   ]
  },
  {
   "cell_type": "code",
   "execution_count": 15,
   "metadata": {},
   "outputs": [
    {
     "name": "stdout",
     "output_type": "stream",
     "text": [
      "Quality: 0.571\n",
      "Detection: 0.708\n",
      "Performance on real: 0.549, on synth: 0.551, diff: -0.002\n"
     ]
    }
   ],
   "source": [
    "label = \"income\"\n",
    "\n",
    "X_synth_loader = GenericDataLoader(\n",
    "    X_synth_test,\n",
    "    target_column=label,\n",
    ")\n",
    "X_test_loader = GenericDataLoader(\n",
    "    X_test,\n",
    "    target_column=label,\n",
    ")\n",
    "\n",
    "res = eval_goggle(X_synth_loader, X_test_loader)\n",
    "\n",
    "print(f\"Quality: {res[0]:.3f}\")\n",
    "print(f\"Detection: {res[2]:.3f}\")\n",
    "print(\n",
    "f\"Performance on real: {res[1][0]:.3f}, on synth: {res[1][1]:.3f}, diff: {(res[1][0] - res[1][1]):.3f}\")"
   ]
  },
  {
   "cell_type": "markdown",
   "metadata": {},
   "source": [
    "#### DECAF-DP"
   ]
  },
  {
   "cell_type": "code",
   "execution_count": 9,
   "metadata": {},
   "outputs": [
    {
     "name": "stdout",
     "output_type": "stream",
     "text": [
      "Initialised adjacency matrix as parsed:\n",
      " Parameter containing:\n",
      "tensor([[0., 1., 0., 1., 0., 1., 1., 1., 0., 0., 0., 0., 1., 0., 1.],\n",
      "        [0., 0., 0., 0., 0., 0., 0., 0., 0., 0., 0., 0., 0., 0., 1.],\n",
      "        [0., 0., 0., 0., 0., 0., 0., 0., 0., 0., 0., 0., 0., 0., 0.],\n",
      "        [0., 1., 0., 0., 0., 0., 1., 1., 0., 0., 0., 0., 1., 0., 1.],\n",
      "        [0., 0., 0., 0., 0., 0., 0., 0., 0., 0., 0., 0., 0., 0., 0.],\n",
      "        [0., 1., 0., 1., 0., 0., 1., 1., 0., 0., 0., 0., 1., 0., 1.],\n",
      "        [0., 0., 0., 0., 0., 0., 0., 0., 0., 0., 0., 0., 0., 0., 1.],\n",
      "        [0., 0., 0., 0., 0., 0., 0., 0., 0., 0., 0., 0., 0., 0., 1.],\n",
      "        [0., 0., 0., 1., 0., 1., 1., 0., 0., 0., 0., 0., 1., 0., 1.],\n",
      "        [0., 1., 0., 1., 0., 1., 1., 1., 0., 0., 0., 0., 0., 0., 1.],\n",
      "        [0., 0., 0., 0., 0., 0., 0., 0., 0., 0., 0., 0., 0., 0., 0.],\n",
      "        [0., 0., 0., 0., 0., 0., 0., 0., 0., 0., 0., 0., 0., 0., 0.],\n",
      "        [0., 0., 0., 0., 0., 0., 0., 0., 0., 0., 0., 0., 0., 0., 1.],\n",
      "        [0., 1., 0., 1., 0., 1., 0., 1., 0., 0., 0., 0., 1., 0., 1.],\n",
      "        [0., 0., 0., 0., 0., 0., 0., 0., 0., 0., 0., 0., 0., 0., 0.]])\n"
     ]
    },
    {
     "data": {
      "text/html": [
       "<div>\n",
       "<style scoped>\n",
       "    .dataframe tbody tr th:only-of-type {\n",
       "        vertical-align: middle;\n",
       "    }\n",
       "\n",
       "    .dataframe tbody tr th {\n",
       "        vertical-align: top;\n",
       "    }\n",
       "\n",
       "    .dataframe thead th {\n",
       "        text-align: right;\n",
       "    }\n",
       "</style>\n",
       "<table border=\"1\" class=\"dataframe\">\n",
       "  <thead>\n",
       "    <tr style=\"text-align: right;\">\n",
       "      <th></th>\n",
       "      <th>age</th>\n",
       "      <th>workclass</th>\n",
       "      <th>fnlwgt</th>\n",
       "      <th>education</th>\n",
       "      <th>education-num</th>\n",
       "      <th>marital-status</th>\n",
       "      <th>occupation</th>\n",
       "      <th>relationship</th>\n",
       "      <th>race</th>\n",
       "      <th>sex</th>\n",
       "      <th>capital-gain</th>\n",
       "      <th>capital-loss</th>\n",
       "      <th>hours-per-week</th>\n",
       "      <th>native-country</th>\n",
       "      <th>income</th>\n",
       "    </tr>\n",
       "  </thead>\n",
       "  <tbody>\n",
       "    <tr>\n",
       "      <th>10434</th>\n",
       "      <td>0.165051</td>\n",
       "      <td>0.004011</td>\n",
       "      <td>0.233374</td>\n",
       "      <td>0.084554</td>\n",
       "      <td>0.509286</td>\n",
       "      <td>0.000177</td>\n",
       "      <td>0.219202</td>\n",
       "      <td>0.338384</td>\n",
       "      <td>1.763635e-27</td>\n",
       "      <td>1.0</td>\n",
       "      <td>6.160838e-06</td>\n",
       "      <td>3.714814e-02</td>\n",
       "      <td>0.403032</td>\n",
       "      <td>2.843400e-18</td>\n",
       "      <td>1.0</td>\n",
       "    </tr>\n",
       "    <tr>\n",
       "      <th>7471</th>\n",
       "      <td>0.442097</td>\n",
       "      <td>0.301965</td>\n",
       "      <td>0.038136</td>\n",
       "      <td>0.148809</td>\n",
       "      <td>0.509486</td>\n",
       "      <td>0.009816</td>\n",
       "      <td>0.103833</td>\n",
       "      <td>0.387248</td>\n",
       "      <td>1.813753e-37</td>\n",
       "      <td>1.0</td>\n",
       "      <td>1.659088e-10</td>\n",
       "      <td>8.341237e-16</td>\n",
       "      <td>0.294574</td>\n",
       "      <td>3.544383e-18</td>\n",
       "      <td>0.0</td>\n",
       "    </tr>\n",
       "    <tr>\n",
       "      <th>4377</th>\n",
       "      <td>0.493849</td>\n",
       "      <td>0.000076</td>\n",
       "      <td>0.039821</td>\n",
       "      <td>0.130236</td>\n",
       "      <td>0.508173</td>\n",
       "      <td>0.004529</td>\n",
       "      <td>0.700785</td>\n",
       "      <td>0.405840</td>\n",
       "      <td>6.146480e-23</td>\n",
       "      <td>1.0</td>\n",
       "      <td>1.918529e-06</td>\n",
       "      <td>1.647496e-10</td>\n",
       "      <td>0.327960</td>\n",
       "      <td>8.761260e-11</td>\n",
       "      <td>0.0</td>\n",
       "    </tr>\n",
       "    <tr>\n",
       "      <th>30452</th>\n",
       "      <td>0.241193</td>\n",
       "      <td>0.016223</td>\n",
       "      <td>0.174061</td>\n",
       "      <td>0.886941</td>\n",
       "      <td>0.699391</td>\n",
       "      <td>0.371640</td>\n",
       "      <td>0.116590</td>\n",
       "      <td>0.771863</td>\n",
       "      <td>8.329799e-01</td>\n",
       "      <td>1.0</td>\n",
       "      <td>8.071691e-06</td>\n",
       "      <td>4.995499e-12</td>\n",
       "      <td>0.536204</td>\n",
       "      <td>2.946659e-04</td>\n",
       "      <td>1.0</td>\n",
       "    </tr>\n",
       "    <tr>\n",
       "      <th>9045</th>\n",
       "      <td>0.494885</td>\n",
       "      <td>0.741972</td>\n",
       "      <td>0.077021</td>\n",
       "      <td>0.199371</td>\n",
       "      <td>0.660638</td>\n",
       "      <td>0.000086</td>\n",
       "      <td>0.832221</td>\n",
       "      <td>0.372516</td>\n",
       "      <td>6.276626e-01</td>\n",
       "      <td>1.0</td>\n",
       "      <td>7.832788e-07</td>\n",
       "      <td>3.580257e-03</td>\n",
       "      <td>0.269290</td>\n",
       "      <td>2.492106e-15</td>\n",
       "      <td>1.0</td>\n",
       "    </tr>\n",
       "  </tbody>\n",
       "</table>\n",
       "</div>"
      ],
      "text/plain": [
       "            age  workclass    fnlwgt  education  education-num  \\\n",
       "10434  0.165051   0.004011  0.233374   0.084554       0.509286   \n",
       "7471   0.442097   0.301965  0.038136   0.148809       0.509486   \n",
       "4377   0.493849   0.000076  0.039821   0.130236       0.508173   \n",
       "30452  0.241193   0.016223  0.174061   0.886941       0.699391   \n",
       "9045   0.494885   0.741972  0.077021   0.199371       0.660638   \n",
       "\n",
       "       marital-status  occupation  relationship          race  sex  \\\n",
       "10434        0.000177    0.219202      0.338384  1.763635e-27  1.0   \n",
       "7471         0.009816    0.103833      0.387248  1.813753e-37  1.0   \n",
       "4377         0.004529    0.700785      0.405840  6.146480e-23  1.0   \n",
       "30452        0.371640    0.116590      0.771863  8.329799e-01  1.0   \n",
       "9045         0.000086    0.832221      0.372516  6.276626e-01  1.0   \n",
       "\n",
       "       capital-gain  capital-loss  hours-per-week  native-country  income  \n",
       "10434  6.160838e-06  3.714814e-02        0.403032    2.843400e-18     1.0  \n",
       "7471   1.659088e-10  8.341237e-16        0.294574    3.544383e-18     0.0  \n",
       "4377   1.918529e-06  1.647496e-10        0.327960    8.761260e-11     0.0  \n",
       "30452  8.071691e-06  4.995499e-12        0.536204    2.946659e-04     1.0  \n",
       "9045   7.832788e-07  3.580257e-03        0.269290    2.492106e-15     1.0  "
      ]
     },
     "execution_count": 9,
     "metadata": {},
     "output_type": "execute_result"
    }
   ],
   "source": [
    "_, synth_data = train_decaf(dataset_train, dag_seed, dataset_test, biased_edges=bias_dict_dp, generate_test=True)\n",
    "synth_data.head()"
   ]
  },
  {
   "cell_type": "code",
   "execution_count": 10,
   "metadata": {},
   "outputs": [],
   "source": [
    "# save synthetic sample\n",
    "dataset_test.to_csv('x_test_adult_dp.csv')\n",
    "synth_data.to_csv('x_synth_adult_dp.csv')"
   ]
  },
  {
   "cell_type": "code",
   "execution_count": 22,
   "metadata": {},
   "outputs": [
    {
     "data": {
      "text/plain": [
       "{'precision': 0.7696105320899616,\n",
       " 'recall': 0.932845744680851,\n",
       " 'auroc': 0.543035775566232,\n",
       " 'dp': 0.045112073,\n",
       " 'ftu': 0.021500051}"
      ]
     },
     "execution_count": 22,
     "metadata": {},
     "output_type": "execute_result"
    }
   ],
   "source": [
    "# decaf evaluation\n",
    "eval_model(synth_data, dataset_test)"
   ]
  },
  {
   "cell_type": "code",
   "execution_count": 16,
   "metadata": {},
   "outputs": [],
   "source": [
    "# load synthetic and test\n",
    "X_test = pd.read_csv('x_test_adult_dp.csv', index_col=0)\n",
    "X_synth_test = pd.read_csv('x_synth_adult_dp.csv', index_col=0)"
   ]
  },
  {
   "cell_type": "code",
   "execution_count": 17,
   "metadata": {},
   "outputs": [
    {
     "name": "stdout",
     "output_type": "stream",
     "text": [
      "Quality: 0.560\n",
      "Detection: 0.696\n",
      "Performance on real: 0.555, on synth: 0.508, diff: 0.047\n"
     ]
    }
   ],
   "source": [
    "label = \"income\"\n",
    "\n",
    "X_synth_loader = GenericDataLoader(\n",
    "    X_synth_test,\n",
    "    target_column=label,\n",
    ")\n",
    "X_test_loader = GenericDataLoader(\n",
    "    X_test,\n",
    "    target_column=label,\n",
    ")\n",
    "\n",
    "res = eval_goggle(X_synth_loader, X_test_loader)\n",
    "\n",
    "print(f\"Quality: {res[0]:.3f}\")\n",
    "print(f\"Detection: {res[2]:.3f}\")\n",
    "print(\n",
    "f\"Performance on real: {res[1][0]:.3f}, on synth: {res[1][1]:.3f}, diff: {(res[1][0] - res[1][1]):.3f}\")"
   ]
  }
 ],
 "metadata": {
  "kernelspec": {
   "display_name": "decaf",
   "language": "python",
   "name": "python3"
  },
  "language_info": {
   "codemirror_mode": {
    "name": "ipython",
    "version": 3
   },
   "file_extension": ".py",
   "mimetype": "text/x-python",
   "name": "python",
   "nbconvert_exporter": "python",
   "pygments_lexer": "ipython3",
   "version": "3.8.10"
  },
  "orig_nbformat": 4
 },
 "nbformat": 4,
 "nbformat_minor": 2
}
